{
 "cells": [
  {
   "cell_type": "markdown",
   "metadata": {
    "collapsed": true
   },
   "source": [
    "# 2D Histograms in physt"
   ]
  },
  {
   "cell_type": "code",
   "execution_count": null,
   "metadata": {
    "collapsed": false
   },
   "outputs": [],
   "source": [
    "# Necessary import evil\n",
    "import physt\n",
    "from physt import h1, h2, histogramdd\n",
    "import numpy as np\n",
    "import matplotlib.pyplot as plt\n",
    "import seaborn.apionly as sns\n",
    "%matplotlib inline"
   ]
  },
  {
   "cell_type": "code",
   "execution_count": null,
   "metadata": {
    "collapsed": true
   },
   "outputs": [],
   "source": [
    "# Some data\n",
    "x = np.random.normal(100, 1, 1000)\n",
    "y = np.random.normal(10, 10, 1000)"
   ]
  },
  {
   "cell_type": "code",
   "execution_count": null,
   "metadata": {
    "collapsed": false
   },
   "outputs": [],
   "source": [
    "# Create a simple histogram\n",
    "histogram = h2(x, y, [8, 4], name=\"Some histogram\", axis_names=[\"x\", \"y\"])\n",
    "histogram"
   ]
  },
  {
   "cell_type": "code",
   "execution_count": null,
   "metadata": {
    "collapsed": false
   },
   "outputs": [],
   "source": [
    "# Frequencies are a 2D-array\n",
    "histogram.frequencies"
   ]
  },
  {
   "cell_type": "markdown",
   "metadata": {},
   "source": [
    "## Multidimensional binning\n",
    "\n",
    "In most cases, binning methods that apply for 1D histograms, can be used also in higher dimensions. In such cases, each parameter can be either scalar (applies to all dimensions) or a list/tuple with independent values for each dimension. This also applies for *range* that has to be list/tuple of tuples."
   ]
  },
  {
   "cell_type": "code",
   "execution_count": null,
   "metadata": {
    "collapsed": false
   },
   "outputs": [],
   "source": [
    "histogram = h2(x, y, \"fixed_width\", (2, 10), name=\"Fixed-width bins\", axis_names=[\"x\", \"y\"])\n",
    "histogram.plot();\n",
    "histogram.numpy_bins"
   ]
  },
  {
   "cell_type": "code",
   "execution_count": null,
   "metadata": {
    "collapsed": false
   },
   "outputs": [],
   "source": [
    "histogram = h2(x, y, \"quantile\", (3, 4), name=\"Quantile bins\", axis_names=[\"x\", \"y\"])\n",
    "histogram.plot();\n",
    "histogram.numpy_bins"
   ]
  },
  {
   "cell_type": "code",
   "execution_count": null,
   "metadata": {
    "collapsed": false
   },
   "outputs": [],
   "source": [
    "histogram = h2(x, y, \"human\", 5, name=\"Human-friendly bins\", axis_names=[\"x\", \"y\"])\n",
    "histogram.plot();\n",
    "histogram.numpy_bins"
   ]
  },
  {
   "cell_type": "markdown",
   "metadata": {},
   "source": [
    "## Plotting\n",
    "\n",
    "### 2D"
   ]
  },
  {
   "cell_type": "code",
   "execution_count": null,
   "metadata": {
    "collapsed": false
   },
   "outputs": [],
   "source": [
    "# Default is workable\n",
    "ax = histogram.plot()"
   ]
  },
  {
   "cell_type": "code",
   "execution_count": null,
   "metadata": {
    "collapsed": false
   },
   "outputs": [],
   "source": [
    "# Custom colormap, no colorbar\n",
    "import matplotlib.cm as cm\n",
    "fig, ax = plt.subplots()\n",
    "ax = histogram.plot(ax=ax, cmap=cm.copper, show_colorbar=False)\n",
    "ax.set_title(\"Custom colormap\");"
   ]
  },
  {
   "cell_type": "code",
   "execution_count": null,
   "metadata": {
    "collapsed": false
   },
   "outputs": [],
   "source": [
    "# Use a named colormap + limit it to a range of values\n",
    "import matplotlib.cm as cm\n",
    "fig, ax = plt.subplots()\n",
    "ax = histogram.plot(ax=ax, cmap=\"Oranges\", show_colorbar=True, cmap_min=20, cmap_max=100, grid_color=\"#ffc0c0\", lw=1)\n",
    "ax.set_title(\"Clipped colormap\");"
   ]
  },
  {
   "cell_type": "code",
   "execution_count": null,
   "metadata": {
    "collapsed": false
   },
   "outputs": [],
   "source": [
    "# Show labels (and hide zero bins)\n",
    "ax = histogram.plot(show_values=True, show_zero=False, cmap=cm.RdBu, format_value=int)"
   ]
  },
  {
   "cell_type": "markdown",
   "metadata": {},
   "source": [
    "## Projections"
   ]
  },
  {
   "cell_type": "code",
   "execution_count": null,
   "metadata": {
    "collapsed": false
   },
   "outputs": [],
   "source": [
    "proj1 = histogram.projection(\"x\", name=\"Projection to X\")\n",
    "proj1.plot(errors=True)\n",
    "proj1"
   ]
  },
  {
   "cell_type": "code",
   "execution_count": null,
   "metadata": {
    "collapsed": false
   },
   "outputs": [],
   "source": [
    "proj2 = histogram.projection(\"y\", name=\"Projection to Y\")\n",
    "proj2.plot(errors=True)\n",
    "proj2"
   ]
  },
  {
   "cell_type": "markdown",
   "metadata": {},
   "source": [
    "## N-dimensional histograms\n",
    "\n",
    "Although is not easy to visualize them, it is possible to create histograms of any dimensions that behave similar to 2D ones. Warning: be aware that the memory consumption can be significant."
   ]
  },
  {
   "cell_type": "code",
   "execution_count": null,
   "metadata": {
    "collapsed": false
   },
   "outputs": [],
   "source": [
    "# Create a 4D histogram\n",
    "data = [np.random.rand(1000)[:, np.newaxis] for i in range(4)]\n",
    "data = np.concatenate(data, axis=1)\n",
    "h4 = histogramdd(data, [3, 2, 2, 3], axis_names=\"abcd\")\n",
    "h4"
   ]
  },
  {
   "cell_type": "code",
   "execution_count": null,
   "metadata": {
    "collapsed": false
   },
   "outputs": [],
   "source": [
    "h4.frequencies"
   ]
  },
  {
   "cell_type": "code",
   "execution_count": null,
   "metadata": {
    "collapsed": false
   },
   "outputs": [],
   "source": [
    "h4.projection(\"a\", \"d\", name=\"4D -> 2D\").plot(show_values=True, format_value=int);"
   ]
  },
  {
   "cell_type": "code",
   "execution_count": null,
   "metadata": {
    "collapsed": false,
    "scrolled": true
   },
   "outputs": [],
   "source": [
    "h4.projection(\"d\", name=\"4D -> 1D\").plot(\"scatter\", errors=True);"
   ]
  },
  {
   "cell_type": "markdown",
   "metadata": {},
   "source": [
    "## Support for pandas DataFrames (without pandas dependency ;-))"
   ]
  },
  {
   "cell_type": "code",
   "execution_count": null,
   "metadata": {
    "collapsed": false
   },
   "outputs": [],
   "source": [
    "# Load notorious example data set\n",
    "iris = sns.load_dataset('iris')"
   ]
  },
  {
   "cell_type": "code",
   "execution_count": null,
   "metadata": {
    "collapsed": false
   },
   "outputs": [],
   "source": [
    "iris = sns.load_dataset('iris')\n",
    "iris_hist = physt.h2(iris[\"sepal_length\"], iris[\"sepal_width\"], \"human\", (12, 7), name=\"Iris\")\n",
    "iris_hist.plot(show_zero=False, cmap=cm.gray_r, show_values=True, format_value=int);"
   ]
  },
  {
   "cell_type": "code",
   "execution_count": null,
   "metadata": {
    "collapsed": false
   },
   "outputs": [],
   "source": [
    "iris_hist.projection(\"sepal_length\").plot();"
   ]
  },
  {
   "cell_type": "code",
   "execution_count": null,
   "metadata": {
    "collapsed": false
   },
   "outputs": [],
   "source": [
    "ax = iris_hist.plot(\"bar3d\")\n",
    "ax.figure.tight_layout()"
   ]
  }
 ],
 "metadata": {
  "kernelspec": {
   "display_name": "Python 3",
   "language": "python",
   "name": "python3"
  },
  "language_info": {
   "codemirror_mode": {
    "name": "ipython",
    "version": 3
   },
   "file_extension": ".py",
   "mimetype": "text/x-python",
   "name": "python",
   "nbconvert_exporter": "python",
   "pygments_lexer": "ipython3",
   "version": "3.5.1"
  }
 },
 "nbformat": 4,
 "nbformat_minor": 0
}
