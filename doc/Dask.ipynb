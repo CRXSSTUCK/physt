{
 "cells": [
  {
   "cell_type": "markdown",
   "metadata": {},
   "source": [
    "# Support for dask arrays\n",
    "\n",
    "It is possible to operate on dask arrays and spare the memory (or perhaps even time)."
   ]
  },
  {
   "cell_type": "code",
   "execution_count": 1,
   "metadata": {
    "collapsed": false
   },
   "outputs": [],
   "source": [
    "# Necessary imports\n",
    "import dask\n",
    "import physt\n",
    "import numpy as np\n",
    "\n",
    "import dask.array as da\n",
    "from physt import h1, h2\n",
    "%matplotlib inline"
   ]
  },
  {
   "cell_type": "code",
   "execution_count": 2,
   "metadata": {
    "collapsed": false
   },
   "outputs": [],
   "source": [
    "# Create two arrays\n",
    "np.random.seed(42)\n",
    "\n",
    "SIZE = 2000000\n",
    "CHUNK = SIZE / 100\n",
    "\n",
    "million = np.random.rand(SIZE)#.astype(int)\n",
    "million2 = (3 * million + np.random.normal(0., 0.3, SIZE))#.astype(int)\n",
    "\n",
    "# Chunk them for dask\n",
    "chunked = da.from_array(million, chunks=(CHUNK))\n",
    "chunked2 = da.from_array(million2, chunks=(CHUNK))"
   ]
  },
  {
   "cell_type": "markdown",
   "metadata": {},
   "source": [
    "## Create histograms\n",
    "\n",
    "`h1`, `h2`, ... have their alternatives in `physt.dask_compat`. They should work similarly. Although, they are not complete and unexpected errors may occur."
   ]
  },
  {
   "cell_type": "code",
   "execution_count": null,
   "metadata": {
    "collapsed": true
   },
   "outputs": [],
   "source": [
    "from physt.dask_compat import h1 as d1\n",
    "from physt.dask_compat import h2 as d2"
   ]
  },
  {
   "cell_type": "code",
   "execution_count": null,
   "metadata": {
    "collapsed": false
   },
   "outputs": [],
   "source": [
    "# Use chunks to create a 1D histogram\n",
    "ha = d1(chunked2, \"fixed_width\", 0.2)\n",
    "check_ha = h1(million2, \"fixed_width\", 0.2)\n",
    "ok = (ha == check_ha)\n",
    "print(\"Check: \", ok)\n",
    "ha.plot()\n",
    "ha"
   ]
  },
  {
   "cell_type": "code",
   "execution_count": null,
   "metadata": {
    "collapsed": false
   },
   "outputs": [],
   "source": [
    "# Use chunks to create a 2D histogram\n",
    "hb = d2(chunked, chunked2, \"fixed_width\", .2, axis_names=[\"x\", \"y\"])\n",
    "check_hb = h2(million, million2, \"fixed_width\", .2, axis_names=[\"x\", \"y\"])\n",
    "hb.plot(show_zero=False, cmap=\"rainbow\")\n",
    "ok = (hb == check_hb)\n",
    "print(\"Check: \", ok)\n",
    "hb"
   ]
  },
  {
   "cell_type": "code",
   "execution_count": null,
   "metadata": {
    "collapsed": false
   },
   "outputs": [],
   "source": [
    "# And another cross-check\n",
    "hh = hb.projection(\"y\")\n",
    "hh.plot()\n",
    "print(\"Check: \", np.array_equal(hh.frequencies, ha.frequencies))   # Just frequencies"
   ]
  }
 ],
 "metadata": {
  "kernelspec": {
   "display_name": "Python 3",
   "language": "python",
   "name": "python3"
  },
  "language_info": {
   "codemirror_mode": {
    "name": "ipython",
    "version": 3
   },
   "file_extension": ".py",
   "mimetype": "text/x-python",
   "name": "python",
   "nbconvert_exporter": "python",
   "pygments_lexer": "ipython3",
   "version": "3.5.1"
  }
 },
 "nbformat": 4,
 "nbformat_minor": 0
}
