{
 "cells": [
  {
   "cell_type": "markdown",
   "metadata": {},
   "source": [
    "# Binning in physt"
   ]
  },
  {
   "cell_type": "code",
   "execution_count": 1,
   "metadata": {
    "collapsed": true
   },
   "outputs": [],
   "source": [
    "# Necessary import evil\n",
    "%matplotlib inline\n",
    "from physt import histogram, binning\n",
    "import numpy as np\n",
    "import matplotlib.pyplot as plt"
   ]
  },
  {
   "cell_type": "code",
   "execution_count": null,
   "metadata": {
    "collapsed": false
   },
   "outputs": [],
   "source": [
    "# Some data\n",
    "heights1 = np.random.normal(169, 10, 100000)\n",
    "heights2 = np.random.normal(180, 6, 100000)\n",
    "numbers = np.random.rand(100000)"
   ]
  },
  {
   "cell_type": "markdown",
   "metadata": {},
   "source": [
    "## Ideal number of bins"
   ]
  },
  {
   "cell_type": "code",
   "execution_count": null,
   "metadata": {
    "collapsed": false
   },
   "outputs": [],
   "source": [
    "X = [int(x) for x in np.logspace(0, 4, 50)]\n",
    "\n",
    "algos = binning.bincount_methods\n",
    "Ys = { algo: [] for algo in algos}\n",
    "\n",
    "for x in X:\n",
    "    ex_dataset = np.random.exponential(1, x)\n",
    "    for algo in algos:\n",
    "        Ys[algo].append(binning.ideal_bin_count(ex_dataset, algo))\n",
    "\n",
    "figure, axis = plt.subplots(figsize=(8, 8))\n",
    "for algo in algos:\n",
    "    if algo == \"default\":\n",
    "        axis.plot(X, Ys[algo], \":.\", label=algo, alpha=0.5, lw=2)\n",
    "    else:\n",
    "        axis.plot(X, Ys[algo], \"-\", label=algo, alpha=0.5, lw=2)\n",
    "axis.set_xscale(\"log\")\n",
    "axis.set_yscale(\"log\")\n",
    "axis.set_xlabel(\"Sample size\")\n",
    "axis.set_ylabel(\"Bin count\")\n",
    "axis.legend(loc=2);"
   ]
  },
  {
   "cell_type": "markdown",
   "metadata": {},
   "source": [
    "## Binning schemes"
   ]
  },
  {
   "cell_type": "markdown",
   "metadata": {},
   "source": [
    "### Exponential binning\n",
    "\n",
    "Uses numpy.logscale to create bins."
   ]
  },
  {
   "cell_type": "code",
   "execution_count": null,
   "metadata": {
    "collapsed": false
   },
   "outputs": [],
   "source": [
    "figure, axis = plt.subplots(1, 2, figsize=(10, 4))\n",
    "hist1 = histogram(numbers, \"exponential\", 10, range=(-5, 0))\n",
    "hist1.plot(color=\"green\", ax=axis[0])\n",
    "hist1.plot(density=True, errors=True, ax=axis[1])\n",
    "axis[0].set_title(\"Absolute scale\")\n",
    "axis[1].set_title(\"Log scale\")\n",
    "axis[1].set_xscale(\"log\");"
   ]
  },
  {
   "cell_type": "markdown",
   "metadata": {},
   "source": [
    "###  Integer binning\n",
    "\n",
    "Useful for integer values (or something you want to round to integers), creates bins of width=1 around integers (i.e. 0.5-1.5, ...)"
   ]
  },
  {
   "cell_type": "code",
   "execution_count": null,
   "metadata": {
    "collapsed": false
   },
   "outputs": [],
   "source": [
    "# Sum of two dice (should be triangle, right?)\n",
    "dice = np.floor(np.random.rand(10000) * 6) + np.floor(np.random.rand(10000) * 6) + 2\n",
    "histogram(dice, \"integer\").plot(ticks=\"center\", density=True);"
   ]
  },
  {
   "cell_type": "markdown",
   "metadata": {},
   "source": [
    "### Quantile-based binning\n",
    "\n",
    "Based on quantiles, this binning results in all bins containing roughly the same amount \n",
    "of observances."
   ]
  },
  {
   "cell_type": "code",
   "execution_count": null,
   "metadata": {
    "collapsed": false
   },
   "outputs": [],
   "source": [
    "figure, axis = plt.subplots(1, 2, figsize=(10, 4))\n",
    "bins2 = binning.quantile(heights1, 40)\n",
    "hist2 = histogram(heights1, bins=bins2)\n",
    "hist2.plot(ax=axis[0]);\n",
    "hist2.plot(density=True, ax=axis[1]);\n",
    "axis[0].set_title(\"Frequencies\")\n",
    "axis[1].set_title(\"Density\");"
   ]
  },
  {
   "cell_type": "code",
   "execution_count": null,
   "metadata": {
    "collapsed": false
   },
   "outputs": [],
   "source": [
    "figure, axis = plt.subplots()\n",
    "\n",
    "histogram(heights1, \"quantile\", 10).plot(alpha=0.3, density=True, ax=axis, label=\"Quantile based\")\n",
    "histogram(heights1, 10).plot(alpha=0.3, density=True, ax=axis, color=\"green\", label=\"Equal spaced\")\n",
    "axis.legend(loc=2);"
   ]
  },
  {
   "cell_type": "markdown",
   "metadata": {},
   "source": [
    "### Fixed-width bins\n",
    "\n",
    "This binning is useful if you want \"human-friendly\" bin intervals."
   ]
  },
  {
   "cell_type": "code",
   "execution_count": null,
   "metadata": {
    "collapsed": false
   },
   "outputs": [],
   "source": [
    "hist_fixed = histogram(heights1, \"fixed_width\", 5)\n",
    "hist_fixed.plot()\n",
    "hist_fixed"
   ]
  },
  {
   "cell_type": "markdown",
   "metadata": {},
   "source": [
    "### Astropy binning\n",
    "\n",
    "Astropy includes its histogramming tools. If this package is available, we reuse its binning\n",
    "methods. These include:\n",
    "\n",
    "* Bayesian blocks\n",
    "* Knuth\n",
    "* Freedman\n",
    "* Scott\n",
    "\n",
    "See <http://docs.astropy.org/en/stable/visualization/histogram.html> for more details."
   ]
  },
  {
   "cell_type": "code",
   "execution_count": null,
   "metadata": {
    "collapsed": false
   },
   "outputs": [],
   "source": [
    "middle_sized = np.random.normal(180, 6, 5000)\n",
    "\n",
    "for n in [\"blocks\", \"scott\", \"knuth\", \"freedman\"]:\n",
    "    algo = \"astropy_{0}\".format(n)\n",
    "    hist = histogram(middle_sized, algo, name=algo)\n",
    "    hist.plot(density=True)"
   ]
  }
 ],
 "metadata": {
  "kernelspec": {
   "display_name": "Python 3",
   "language": "python",
   "name": "python3"
  },
  "language_info": {
   "codemirror_mode": {
    "name": "ipython",
    "version": 3
   },
   "file_extension": ".py",
   "mimetype": "text/x-python",
   "name": "python",
   "nbconvert_exporter": "python",
   "pygments_lexer": "ipython3",
   "version": "3.5.1"
  }
 },
 "nbformat": 4,
 "nbformat_minor": 0
}
