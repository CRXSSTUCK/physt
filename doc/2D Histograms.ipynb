{
 "cells": [
  {
   "cell_type": "markdown",
   "metadata": {},
   "source": [
    "# 2D Histograms in physt"
   ]
  },
  {
   "cell_type": "code",
   "execution_count": 1,
   "metadata": {
    "collapsed": true
   },
   "outputs": [],
   "source": [
    "# Necessary import evil\n",
    "%matplotlib inline\n",
    "from physt import histogram2d\n",
    "import numpy as np\n",
    "import matplotlib.pyplot as plt"
   ]
  },
  {
   "cell_type": "code",
   "execution_count": 2,
   "metadata": {
    "collapsed": true
   },
   "outputs": [],
   "source": [
    "data = [np.random.normal(100, 1, 1000), np.random.normal(10, 10, 1000)]"
   ]
  },
  {
   "cell_type": "code",
   "execution_count": 3,
   "metadata": {
    "collapsed": false
   },
   "outputs": [],
   "source": [
    "h2 = histogram2d(data[0], data[1], 8)"
   ]
  },
  {
   "cell_type": "code",
   "execution_count": 4,
   "metadata": {
    "collapsed": false
   },
   "outputs": [
    {
     "data": {
      "text/plain": [
       "array([[  0.,   3.,   4.,   6.,   5.,   4.,   1.,   0.],\n",
       "       [  0.,   3.,   8.,  21.,  20.,   9.,   4.,   0.],\n",
       "       [  2.,  11.,  15.,  42.,  61.,  37.,  14.,   3.],\n",
       "       [  3.,  12.,  46.,  86.,  80.,  52.,  16.,   1.],\n",
       "       [  5.,   9.,  30.,  57.,  73.,  66.,  14.,   2.],\n",
       "       [  3.,   5.,  14.,  30.,  44.,  22.,   6.,   1.],\n",
       "       [  0.,   2.,   3.,  11.,  12.,   7.,   1.,   1.],\n",
       "       [  0.,   1.,   3.,   3.,   3.,   1.,   0.,   0.]])"
      ]
     },
     "execution_count": 4,
     "metadata": {},
     "output_type": "execute_result"
    }
   ],
   "source": [
    "h2.frequencies"
   ]
  },
  {
   "cell_type": "code",
   "execution_count": null,
   "metadata": {
    "collapsed": true
   },
   "outputs": [],
   "source": []
  }
 ],
 "metadata": {
  "kernelspec": {
   "display_name": "Python 3",
   "language": "python",
   "name": "python3"
  },
  "language_info": {
   "codemirror_mode": {
    "name": "ipython",
    "version": 3
   },
   "file_extension": ".py",
   "mimetype": "text/x-python",
   "name": "python",
   "nbconvert_exporter": "python",
   "pygments_lexer": "ipython3",
   "version": "3.5.1"
  }
 },
 "nbformat": 4,
 "nbformat_minor": 0
}
