{
 "cells": [
  {
   "cell_type": "code",
   "execution_count": 1,
   "metadata": {
    "collapsed": false
   },
   "outputs": [],
   "source": [
    "from physt.binnings import *\n",
    "import numpy as np\n",
    "\n",
    "np.random.seed(42)\n",
    "\n",
    "%matplotlib inline"
   ]
  },
  {
   "cell_type": "code",
   "execution_count": 2,
   "metadata": {
    "collapsed": false
   },
   "outputs": [
    {
     "data": {
      "text/plain": [
       "(0.020584494295802447, 0.96990985216199432)"
      ]
     },
     "execution_count": 2,
     "metadata": {},
     "output_type": "execute_result"
    }
   ],
   "source": [
    "data = np.random.rand(20)\n",
    "data.min(), data.max()"
   ]
  },
  {
   "cell_type": "code",
   "execution_count": 3,
   "metadata": {
    "collapsed": false
   },
   "outputs": [
    {
     "name": "stdout",
     "output_type": "stream",
     "text": [
      "[[ 0.   0.1]\n",
      " [ 0.1  0.2]\n",
      " [ 0.2  0.3]\n",
      " [ 0.3  0.4]\n",
      " [ 0.4  0.5]\n",
      " [ 0.5  0.6]\n",
      " [ 0.6  0.7]\n",
      " [ 0.7  0.8]\n",
      " [ 0.8  0.9]\n",
      " [ 0.9  1. ]]\n",
      "10\n"
     ]
    }
   ],
   "source": [
    "fw = fixed_width_binning(data, bin_width=0.1)\n",
    "print(fw.bins)\n",
    "print(fw.bin_count)"
   ]
  },
  {
   "cell_type": "code",
   "execution_count": 4,
   "metadata": {
    "collapsed": false
   },
   "outputs": [
    {
     "name": "stdout",
     "output_type": "stream",
     "text": [
      "[[ 0.02058449  0.03569172]\n",
      " [ 0.03569172  0.06188634]\n",
      " [ 0.06188634  0.10730554]\n",
      " [ 0.10730554  0.18605847]\n",
      " [ 0.18605847  0.3226092 ]\n",
      " [ 0.3226092   0.5593763 ]\n",
      " [ 0.5593763   0.96990985]]\n",
      "7\n"
     ]
    }
   ],
   "source": [
    "ex = exponential_binning(data)\n",
    "print(ex.bins)\n",
    "print(ex.bin_count)"
   ]
  },
  {
   "cell_type": "code",
   "execution_count": 5,
   "metadata": {
    "collapsed": false
   },
   "outputs": [
    {
     "name": "stdout",
     "output_type": "stream",
     "text": [
      "[[ 0.02058449  0.11551703]\n",
      " [ 0.11551703  0.21044957]\n",
      " [ 0.21044957  0.3053821 ]\n",
      " [ 0.3053821   0.40031464]\n",
      " [ 0.40031464  0.49524717]\n",
      " [ 0.49524717  0.59017971]\n",
      " [ 0.59017971  0.68511224]\n",
      " [ 0.68511224  0.78004478]\n",
      " [ 0.78004478  0.87497732]\n",
      " [ 0.87497732  0.96990985]]\n",
      "10\n"
     ]
    }
   ],
   "source": [
    "n = numpy_binning(data)\n",
    "print(n.bins)\n",
    "print(n.bin_count)"
   ]
  },
  {
   "cell_type": "code",
   "execution_count": 6,
   "metadata": {
    "collapsed": false
   },
   "outputs": [
    {
     "name": "stdout",
     "output_type": "stream",
     "text": [
      "[[ 0.02058449  0.14620343]\n",
      " [ 0.14620343  0.1766637 ]\n",
      " [ 0.1766637   0.20365873]\n",
      " [ 0.20365873  0.299037  ]\n",
      " [ 0.299037    0.40324257]\n",
      " [ 0.40324257  0.55431725]\n",
      " [ 0.55431725  0.63320228]\n",
      " [ 0.63320228  0.75208368]\n",
      " [ 0.75208368  0.87462996]\n",
      " [ 0.87462996  0.96990985]]\n",
      "10\n"
     ]
    }
   ],
   "source": [
    "qb = quantile_binning(data)\n",
    "print(qb.bins)\n",
    "print(qb.bin_count)"
   ]
  },
  {
   "cell_type": "code",
   "execution_count": 7,
   "metadata": {
    "collapsed": false
   },
   "outputs": [
    {
     "name": "stdout",
     "output_type": "stream",
     "text": [
      "[[ 0.   0.1]\n",
      " [ 0.1  0.2]\n",
      " [ 0.2  0.3]\n",
      " [ 0.3  0.4]\n",
      " [ 0.4  0.5]\n",
      " [ 0.5  0.6]\n",
      " [ 0.6  0.7]\n",
      " [ 0.7  0.8]\n",
      " [ 0.8  0.9]\n",
      " [ 0.9  1. ]]\n",
      "10\n"
     ]
    }
   ],
   "source": [
    "hb = human_binning(data)\n",
    "print(hb.bins)\n",
    "print(hb.bin_count)"
   ]
  },
  {
   "cell_type": "markdown",
   "metadata": {
    "collapsed": true
   },
   "source": [
    "## Merging bins"
   ]
  },
  {
   "cell_type": "code",
   "execution_count": 8,
   "metadata": {
    "collapsed": true
   },
   "outputs": [],
   "source": [
    "from physt import h1\n",
    "data = np.random.rand(100)"
   ]
  },
  {
   "cell_type": "code",
   "execution_count": 9,
   "metadata": {
    "collapsed": false
   },
   "outputs": [
    {
     "data": {
      "image/png": "[encoded data removed]",
      "text/plain": [
       "<matplotlib.figure.Figure at 0x7f91646c5ac8>"
      ]
     },
     "metadata": {},
     "output_type": "display_data"
    }
   ],
   "source": [
    "hh = h1(data, 120)\n",
    "hh.plot(errors=True);"
   ]
  },
  {
   "cell_type": "code",
   "execution_count": 10,
   "metadata": {
    "collapsed": false
   },
   "outputs": [
    {
     "data": {
      "image/png": "[encoded data removed]",
      "text/plain": [
       "<matplotlib.figure.Figure at 0x7f91646c5c88>"
      ]
     },
     "metadata": {},
     "output_type": "display_data"
    }
   ],
   "source": [
    "hh.merge_bins(2)\n",
    "hh.plot(errors=True);"
   ]
  },
  {
   "cell_type": "code",
   "execution_count": 11,
   "metadata": {
    "collapsed": false
   },
   "outputs": [
    {
     "data": {
      "image/png": "[encoded data removed]",
      "text/plain": [
       "<matplotlib.figure.Figure at 0x7f91618e06d8>"
      ]
     },
     "metadata": {},
     "output_type": "display_data"
    }
   ],
   "source": [
    "hh.merge_bins(2)\n",
    "hh.plot(errors=True);"
   ]
  },
  {
   "cell_type": "code",
   "execution_count": 12,
   "metadata": {
    "collapsed": false
   },
   "outputs": [
    {
     "data": {
      "image/png": "[encoded data removed]",
      "text/plain": [
       "<matplotlib.figure.Figure at 0x7f91618c1198>"
      ]
     },
     "metadata": {},
     "output_type": "display_data"
    }
   ],
   "source": [
    "hh.merge_bins(2)\n",
    "hh.plot(errors=True);"
   ]
  },
  {
   "cell_type": "code",
   "execution_count": 13,
   "metadata": {
    "collapsed": false
   },
   "outputs": [
    {
     "data": {
      "image/png": "[encoded data removed]",
      "text/plain": [
       "<matplotlib.figure.Figure at 0x7f916191c588>"
      ]
     },
     "metadata": {},
     "output_type": "display_data"
    }
   ],
   "source": [
    "hh.merge_bins(2)\n",
    "hh.plot(errors=True);"
   ]
  },
  {
   "cell_type": "code",
   "execution_count": 14,
   "metadata": {
    "collapsed": false
   },
   "outputs": [
    {
     "data": {
      "image/png": "[encoded data removed]",
      "text/plain": [
       "<matplotlib.figure.Figure at 0x7f91619e86a0>"
      ]
     },
     "metadata": {},
     "output_type": "display_data"
    }
   ],
   "source": [
    "hh.merge_bins(2)\n",
    "hh.plot(errors=True);"
   ]
  },
  {
   "cell_type": "code",
   "execution_count": 15,
   "metadata": {
    "collapsed": false
   },
   "outputs": [
    {
     "data": {
      "image/png": "[encoded data removed]",
      "text/plain": [
       "<matplotlib.figure.Figure at 0x7f916205b1d0>"
      ]
     },
     "metadata": {},
     "output_type": "display_data"
    }
   ],
   "source": [
    "hh.merge_bins(2)\n",
    "hh.plot(errors=True);"
   ]
  },
  {
   "cell_type": "code",
   "execution_count": 16,
   "metadata": {
    "collapsed": false
   },
   "outputs": [
    {
     "data": {
      "image/png": "[encoded data removed]",
      "text/plain": [
       "<matplotlib.figure.Figure at 0x7f9161f11c18>"
      ]
     },
     "metadata": {},
     "output_type": "display_data"
    }
   ],
   "source": [
    "hh.merge_bins(2)\n",
    "hh.plot(errors=True);"
   ]
  },
  {
   "cell_type": "code",
   "execution_count": null,
   "metadata": {
    "collapsed": true
   },
   "outputs": [],
   "source": []
  }
 ],
 "metadata": {
  "kernelspec": {
   "display_name": "Python 3",
   "language": "python",
   "name": "python3"
  },
  "language_info": {
   "codemirror_mode": {
    "name": "ipython",
    "version": 3
   },
   "file_extension": ".py",
   "mimetype": "text/x-python",
   "name": "python",
   "nbconvert_exporter": "python",
   "pygments_lexer": "ipython3",
   "version": "3.5.1"
  }
 },
 "nbformat": 4,
 "nbformat_minor": 0
}
