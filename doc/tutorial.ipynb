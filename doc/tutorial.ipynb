{
  "cells": [
    {
      "cell_type": "markdown",
      "source": [
        "# Get started with physt\n",
        "\nThis tutorial describes some of the basic features of physt."
      ],
      "metadata": {}
    },
    {
      "cell_type": "code",
      "source": [
        "# Necessary import evil\n",
        "%matplotlib inline\n",
        "from physt import histogram, binnings, h1, h2, h3\n",
        "import numpy as np\n",
        "import matplotlib.pyplot as plt\n",
        "\nnp.random.seed(1337)     # Have always the same data"
      ],
      "outputs": [],
      "execution_count": 1,
      "metadata": {
        "collapsed": false
      }
    },
    {
      "cell_type": "markdown",
      "source": [
        "## Getting physt (to run)\n",
        "\n",
        "I believe you can skip this section but anyway, for the sake of completeness, the default way of installing a relatively stable version of physt is via pip:\n",
        "\n",
        "`pip install physt`\n",
        "\n",
        "Alternatively, you can download the source code from github (https://github.com/janpipek/physt).\n",
        "\nYou will need **numpy** to use physt (required), but there are other packages (optional) that are very useful if you want to use physt at its best: **matplotlib** for plotting (or **bokeh** as a not-so-well supported alternative)."
      ],
      "metadata": {}
    },
    {
      "cell_type": "markdown",
      "source": [
        "## Your first histogram\n",
        "\nIf you need to create a histogram, call the `histogram` (or `h1`) function with your data (like heights of people) as the first argument. The default gives a reasonable result..."
      ],
      "metadata": {}
    },
    {
      "cell_type": "code",
      "source": [
        "# Basic dataset\n",
        "heights = [160, 155, 156, 198, 177, 168, 191, 183, 184, 179, 178, 172, 173, 175,\n",
        "           172, 177, 176, 175, 174, 173, 174, 175, 177, 169, 168, 164, 175, 188,\n",
        "           178, 174, 173, 181, 185, 166, 162, 163, 171, 165, 180, 189, 166, 163,\n",
        "           172, 173, 174, 183, 184, 161, 162, 168, 169, 174, 176, 170, 169, 165]\n",
        "\n",
        "hist = histogram(heights)     # Automatically select all settings\n",
        "hist"
      ],
      "outputs": [
        {
          "output_type": "execute_result",
          "execution_count": 2,
          "data": {
            "text/plain": [
              "Histogram1D(bins=(10,), total=56, dtype=int64)"
            ]
          },
          "metadata": {}
        }
      ],
      "execution_count": 2,
      "metadata": {
        "collapsed": false
      }
    },
    {
      "cell_type": "markdown",
      "source": [
        "...which is an object of the Histogram1D type that holds all the bin information..."
      ],
      "metadata": {}
    },
    {
      "cell_type": "code",
      "source": [
        "hist.bins          # All the bins"
      ],
      "outputs": [
        {
          "output_type": "execute_result",
          "execution_count": 3,
          "data": {
            "text/plain": [
              "array([[ 155. ,  159.3],\n",
              "       [ 159.3,  163.6],\n",
              "       [ 163.6,  167.9],\n",
              "       [ 167.9,  172.2],\n",
              "       [ 172.2,  176.5],\n",
              "       [ 176.5,  180.8],\n",
              "       [ 180.8,  185.1],\n",
              "       [ 185.1,  189.4],\n",
              "       [ 189.4,  193.7],\n",
              "       [ 193.7,  198. ]])"
            ]
          },
          "metadata": {}
        }
      ],
      "execution_count": 3,
      "metadata": {
        "collapsed": false
      }
    },
    {
      "cell_type": "code",
      "source": [
        "hist.frequencies   # All the frequencies"
      ],
      "outputs": [
        {
          "output_type": "execute_result",
          "execution_count": 4,
          "data": {
            "text/plain": [
              "array([ 2,  6,  5, 11, 15,  7,  6,  2,  1,  1])"
            ]
          },
          "metadata": {}
        }
      ],
      "execution_count": 4,
      "metadata": {
        "collapsed": false
      }
    },
    {
      "cell_type": "markdown",
      "source": [
        "...and provides further features and methods, like plotting for example..."
      ],
      "metadata": {}
    },
    {
      "cell_type": "code",
      "source": [
        "hist.plot(show_values=True);"
      ],
      "outputs": [
        {
          "output_type": "display_data",
          "data": {
            "text/plain": [
              "<matplotlib.figure.Figure at 0x7fd9bd4935c0>"
            ],
            "image/png": "[encoded data removed]"
          },
          "metadata": {}
        }
      ],
      "execution_count": 5,
      "metadata": {
        "collapsed": false
      }
    },
    {
      "cell_type": "markdown",
      "source": [
        "...or adding new values (note that this is something numpy.histogram won't do for you)..."
      ],
      "metadata": {
        "collapsed": false
      }
    },
    {
      "cell_type": "code",
      "source": [
        "original = hist.copy()             # Store the original data to see changes\n",
        "\n",
        "# ******* Here comes a lonely giant\n",
        "hist.fill(197)                     \n",
        "\n",
        "step1 = hist.copy()                # Store the intermediate value\n",
        "\n",
        "# ******* And a bunch of relatively short people\n",
        "hist.fill_n([160, 160, 161, 157, 156, 159, 162])\n",
        "\n",
        "# See how the plot changes (you can safely ignore the following 4 lines)\n",
        "ax = hist.plot(label=\"After fill_n\");                  \n",
        "step1.plot(color=\"yellow\", ax=ax, label=\"After fill\")\n",
        "original.plot(color=\"red\", ax=ax, label=\"Before filling\")\n",
        "ax.legend(loc=1)\n",
        "\n",
        "# See the number of entries \n",
        "hist"
      ],
      "outputs": [
        {
          "output_type": "execute_result",
          "execution_count": 6,
          "data": {
            "text/plain": [
              "Histogram1D(bins=(10,), total=64, dtype=int64)"
            ]
          },
          "metadata": {}
        },
        {
          "output_type": "display_data",
          "data": {
            "text/plain": [
              "<matplotlib.figure.Figure at 0x7fd9b66bdcc0>"
            ],
            "image/png": "[encoded data removed]"
          },
          "metadata": {}
        }
      ],
      "execution_count": 6,
      "metadata": {
        "collapsed": false
      }
    },
    {
      "cell_type": "markdown",
      "source": [
        "## Data representation\n",
        "\n",
        "The primary goal of physt library is to represent histograms as data objects with a set methods for easy manipulation and analysis (including mathematical operations, adaptivity, summary statistics. ...). The histogram classes used in [ROOT](https://root.cern.ch/) framework served as inspiration but not as a model to copy (though relevant methods often have same names).\n",
        "\n",
        "Based on its dimensionality, a histogram is an instance of one of the following classes (all inheriting from **HistogramBase**):\n",
        "\n",
        "* **Histogram1D** for univariate data\n",
        "* **Histogram2D** for bivariate data\n",
        "* **HistogramND** for data with higher dimensionality\n",
        "* ...or some special dedicated class (user-provided). Currently, there is a **PolarHistogram** as an example (considered to be experimental, not API-stable).\n",
        "\n",
        "However, these objects are \\__init\\__ialized with already calculated data and therefore, you typically don't construct the yourselves but call one of the facade functions:\n",
        "\n",
        "* **histogram** or **h1**\n",
        "* **histogram2d** or **h2**\n",
        "* **histogramdd** (or **h3** for 3D case)\n",
        "\nThese functions try to find the best binning schema, calculate bin contents and set other properties for the histograms. In principle (if not, submit a bug report), if you call a function with arguments understood by eponymous numpy functions ([histogram](http://docs.scipy.org/doc/numpy-1.10.1/reference/generated/numpy.histogram.html), [histogram2d](http://docs.scipy.org/doc/numpy-1.10.1/reference/generated/numpy.histogram2d.html) and [histogramdd](http://docs.scipy.org/doc/numpy-1.10.1/reference/generated/numpy.histogramdd.html)), you should receive histogram with exactly the same bin edges and bin contents. However, there are many more arguments available!"
      ],
      "metadata": {}
    },
    {
      "cell_type": "code",
      "source": [
        "# Back to people's parameters...\n",
        "heights = np.random.normal(172, 10, 100)\n",
        "weights = np.random.normal(70, 15, 100)\n",
        "iqs = np.random.normal(100, 15, 100)"
      ],
      "outputs": [],
      "execution_count": 7,
      "metadata": {
        "collapsed": false
      }
    },
    {
      "cell_type": "code",
      "source": [
        "# 1D histogram\n",
        "h1(heights)"
      ],
      "outputs": [
        {
          "output_type": "execute_result",
          "execution_count": 8,
          "data": {
            "text/plain": [
              "Histogram1D(bins=(10,), total=100, dtype=int64)"
            ]
          },
          "metadata": {}
        }
      ],
      "execution_count": 8,
      "metadata": {
        "collapsed": false
      }
    },
    {
      "cell_type": "code",
      "source": [
        "# 2D histogram\n",
        "h2(heights, weights, [5, 7])"
      ],
      "outputs": [
        {
          "output_type": "execute_result",
          "execution_count": 9,
          "data": {
            "text/plain": [
              "Histogram2D(bins=(5, 7), total=100, dtype=int64)"
            ]
          },
          "metadata": {}
        }
      ],
      "execution_count": 9,
      "metadata": {
        "collapsed": false
      }
    },
    {
      "cell_type": "code",
      "source": [
        "# 3D histogram\n",
        "h3([heights, weights, iqs])      # Simplification with respect to numpy.histogramdd"
      ],
      "outputs": [
        {
          "output_type": "execute_result",
          "execution_count": 10,
          "data": {
            "text/plain": [
              "HistogramND(bins=(10, 10, 10), total=100, dtype=int64)"
            ]
          },
          "metadata": {}
        }
      ],
      "execution_count": 10,
      "metadata": {
        "collapsed": false
      }
    },
    {
      "cell_type": "markdown",
      "source": [
        "So, what do these objects contain? In principle:\n",
        "\n",
        "- binning schema (`_binning` or `_binnings`)\n",
        "- bin contents (`frequencies`) together with errors (`errors`)\n",
        "- some statistics about the data (`mean`, `variance`, `std`)\n",
        "- metadata (like `name` and `axis_name` or `axis_names`)\n",
        "- ...\n",
        "\nIn the following, properties of `Histogram1D` will be described. Analogous methods and data fields do exist also for `Histogram2D` and `HistogramND`, perhaps with the name in plural."
      ],
      "metadata": {}
    },
    {
      "cell_type": "markdown",
      "source": [
        "### Binning schema\n",
        "\n",
        "The structure of bins is stored in the histogram object as a hidden attribute `_binning`. This value is an instance of one of the binning classes that are all descendants of `physt.binnings.BinningBase`. You are not supposed to directly access this value because manipulating it without at the same time updating the bin contents is dangerous.\n",
        "\n",
        "A dedicated notebook deals with the binning specifics, here we sum at least the most important features.\n",
        "\n`Histogram1D` offers the following attributes to access (read-only or read-only-intended) the binning information (explicitly or implicitly stored in `_binning`):"
      ],
      "metadata": {}
    },
    {
      "cell_type": "code",
      "source": [
        "# Create a histogram with \"reasonable\" bins\n",
        "data = np.random.normal(0, 7, 10000)\n",
        "hist = histogram(data, \"human\", 4)\n",
        "hist"
      ],
      "outputs": [
        {
          "output_type": "execute_result",
          "execution_count": 11,
          "data": {
            "text/plain": [
              "Histogram1D(bins=(6,), total=10000, dtype=int64)"
            ]
          },
          "metadata": {}
        }
      ],
      "execution_count": 11,
      "metadata": {
        "collapsed": false
      }
    },
    {
      "cell_type": "code",
      "source": [
        "hist._binning         # Just to show, don't use it"
      ],
      "outputs": [
        {
          "output_type": "execute_result",
          "execution_count": 12,
          "data": {
            "text/plain": [
              "<physt.binnings.FixedWidthBinning at 0x7fd9b65c9f60>"
            ]
          },
          "metadata": {}
        }
      ],
      "execution_count": 12,
      "metadata": {
        "collapsed": false
      }
    },
    {
      "cell_type": "code",
      "source": [
        "hist.bin_count        # The total number of bins"
      ],
      "outputs": [
        {
          "output_type": "execute_result",
          "execution_count": 13,
          "data": {
            "text/plain": [
              "6"
            ]
          },
          "metadata": {}
        }
      ],
      "execution_count": 13,
      "metadata": {
        "collapsed": false
      }
    },
    {
      "cell_type": "code",
      "source": [
        "hist.bins             # Bins as array of both edges"
      ],
      "outputs": [
        {
          "output_type": "execute_result",
          "execution_count": 14,
          "data": {
            "text/plain": [
              "array([[-30., -20.],\n",
              "       [-20., -10.],\n",
              "       [-10.,   0.],\n",
              "       [  0.,  10.],\n",
              "       [ 10.,  20.],\n",
              "       [ 20.,  30.]])"
            ]
          },
          "metadata": {}
        }
      ],
      "execution_count": 14,
      "metadata": {
        "collapsed": false
      }
    },
    {
      "cell_type": "code",
      "source": [
        "hist.numpy_bins       # Bin edges with the same semantics as the numpy.histogram"
      ],
      "outputs": [
        {
          "output_type": "execute_result",
          "execution_count": 15,
          "data": {
            "text/plain": [
              "array([-30., -20., -10.,   0.,  10.,  20.,  30.])"
            ]
          },
          "metadata": {}
        }
      ],
      "execution_count": 15,
      "metadata": {
        "collapsed": false
      }
    },
    {
      "cell_type": "code",
      "source": [
        "hist.bin_left_edges"
      ],
      "outputs": [
        {
          "output_type": "execute_result",
          "execution_count": 16,
          "data": {
            "text/plain": [
              "array([-30., -20., -10.,   0.,  10.,  20.])"
            ]
          },
          "metadata": {}
        }
      ],
      "execution_count": 16,
      "metadata": {
        "collapsed": false
      }
    },
    {
      "cell_type": "code",
      "source": [
        "hist.bin_right_edges"
      ],
      "outputs": [
        {
          "output_type": "execute_result",
          "execution_count": 17,
          "data": {
            "text/plain": [
              "array([-20., -10.,   0.,  10.,  20.,  30.])"
            ]
          },
          "metadata": {}
        }
      ],
      "execution_count": 17,
      "metadata": {
        "collapsed": false
      }
    },
    {
      "cell_type": "code",
      "source": [
        "hist.bin_centers      # Centers of the bins - useful for interpretation of histograms as scatter data"
      ],
      "outputs": [
        {
          "output_type": "execute_result",
          "execution_count": 18,
          "data": {
            "text/plain": [
              "array([-25., -15.,  -5.,   5.,  15.,  25.])"
            ]
          },
          "metadata": {}
        }
      ],
      "execution_count": 18,
      "metadata": {
        "collapsed": false
      }
    },
    {
      "cell_type": "code",
      "source": [
        "hist.bin_widths       # Widths of the bins - useful for calculating densities and also for bar plots"
      ],
      "outputs": [
        {
          "output_type": "execute_result",
          "execution_count": 19,
          "data": {
            "text/plain": [
              "array([ 10.,  10.,  10.,  10.,  10.,  10.])"
            ]
          },
          "metadata": {}
        }
      ],
      "execution_count": 19,
      "metadata": {
        "collapsed": false
      }
    },
    {
      "cell_type": "markdown",
      "source": [
        "Just as a simple overview of binning schemas, that are provided by physt, we show the bins as produced by different schemas:"
      ],
      "metadata": {}
    },
    {
      "cell_type": "code",
      "source": [
        "list(binnings.binning_methods.keys())        # Show them all"
      ],
      "outputs": [
        {
          "output_type": "execute_result",
          "execution_count": 20,
          "data": {
            "text/plain": [
              "['numpy',\n",
              " 'exponential',\n",
              " 'quantile',\n",
              " 'fixed_width',\n",
              " 'integer',\n",
              " 'human',\n",
              " 'blocks',\n",
              " 'knuth',\n",
              " 'scott',\n",
              " 'freedman']"
            ]
          },
          "metadata": {}
        }
      ],
      "execution_count": 20,
      "metadata": {
        "collapsed": false
      }
    },
    {
      "cell_type": "markdown",
      "source": [
        "These names can be used as the second parameter of the `h1` function:"
      ],
      "metadata": {}
    },
    {
      "cell_type": "code",
      "source": [
        "# Fixed-width\n",
        "h1(data, \"fixed_width\", 6).numpy_bins  "
      ],
      "outputs": [
        {
          "output_type": "execute_result",
          "execution_count": 21,
          "data": {
            "text/plain": [
              "array([-30., -24., -18., -12.,  -6.,   0.,   6.,  12.,  18.,  24.,  30.])"
            ]
          },
          "metadata": {}
        }
      ],
      "execution_count": 21,
      "metadata": {
        "collapsed": false
      }
    },
    {
      "cell_type": "code",
      "source": [
        "# Numpy-like\n",
        "print(\"Expected:\", np.histogram(data, 5)[1])\n",
        "\nprint(\"We got:\", h1(data, \"numpy\", 5).numpy_bins)"
      ],
      "outputs": [
        {
          "output_type": "stream",
          "name": "stdout",
          "text": [
            "Expected: [-26.89092563 -16.07128189  -5.25163815   5.56800559  16.38764933\n",
            "  27.20729307]\n",
            "We got: [-26.89092563 -16.07128189  -5.25163815   5.56800559  16.38764933\n",
            "  27.20729307]\n"
          ]
        }
      ],
      "execution_count": 22,
      "metadata": {
        "collapsed": false
      }
    },
    {
      "cell_type": "code",
      "source": [
        "# Integer - centered around integers; useful for integer data\n",
        "h1(data, \"integer\").numpy_bins     "
      ],
      "outputs": [
        {
          "output_type": "execute_result",
          "execution_count": 23,
          "data": {
            "text/plain": [
              "array([-27.5, -26.5, -25.5, -24.5, -23.5, -22.5, -21.5, -20.5, -19.5,\n",
              "       -18.5, -17.5, -16.5, -15.5, -14.5, -13.5, -12.5, -11.5, -10.5,\n",
              "        -9.5,  -8.5,  -7.5,  -6.5,  -5.5,  -4.5,  -3.5,  -2.5,  -1.5,\n",
              "        -0.5,   0.5,   1.5,   2.5,   3.5,   4.5,   5.5,   6.5,   7.5,\n",
              "         8.5,   9.5,  10.5,  11.5,  12.5,  13.5,  14.5,  15.5,  16.5,\n",
              "        17.5,  18.5,  19.5,  20.5,  21.5,  22.5,  23.5,  24.5,  25.5,\n",
              "        26.5,  27.5])"
            ]
          },
          "metadata": {}
        }
      ],
      "execution_count": 23,
      "metadata": {
        "collapsed": false
      }
    },
    {
      "cell_type": "code",
      "source": [
        "# Exponential - positive numbers required\n",
        "h1(np.abs(data), \"exponential\").numpy_bins      # We 'abs' the values"
      ],
      "outputs": [
        {
          "output_type": "execute_result",
          "execution_count": 24,
          "data": {
            "text/plain": [
              "array([  1.03182494e-03,   2.03397046e-03,   4.00943579e-03,\n",
              "         7.90354415e-03,   1.55797507e-02,   3.07113654e-02,\n",
              "         6.05393490e-02,   1.19337344e-01,   2.35242068e-01,\n",
              "         4.63717632e-01,   9.14096888e-01,   1.80190069e+00,\n",
              "         3.55197150e+00,   7.00177407e+00,   1.38021491e+01,\n",
              "         2.72072931e+01])"
            ]
          },
          "metadata": {}
        }
      ],
      "execution_count": 24,
      "metadata": {
        "collapsed": false
      }
    },
    {
      "cell_type": "code",
      "source": [
        "# Quantile - each bin should have a similar statistical importance\n",
        "h1(data, \"quantile\", 5).numpy_bins\n"
      ],
      "outputs": [
        {
          "output_type": "execute_result",
          "execution_count": 25,
          "data": {
            "text/plain": [
              "array([-26.89092563,  -5.87687499,  -1.69550961,   1.81670859,\n",
              "         5.79232538,  27.20729307])"
            ]
          },
          "metadata": {}
        }
      ],
      "execution_count": 25,
      "metadata": {
        "collapsed": false
      }
    },
    {
      "cell_type": "code",
      "source": [
        "# Human - as friendly to your plots as possible, you may set an approximate number of bins\n",
        "h1(data, \"human\").numpy_bins             "
      ],
      "outputs": [
        {
          "output_type": "execute_result",
          "execution_count": 26,
          "data": {
            "text/plain": [
              "array([-30., -25., -20., -15., -10.,  -5.,   0.,   5.,  10.,  15.,  20.,\n",
              "        25.,  30.])"
            ]
          },
          "metadata": {}
        }
      ],
      "execution_count": 26,
      "metadata": {
        "collapsed": false
      }
    },
    {
      "cell_type": "markdown",
      "source": [
        "### Bin contents"
      ],
      "metadata": {}
    },
    {
      "cell_type": "markdown",
      "source": [
        "The bin contents (`frequencies`) and associated errors (`errors`) are stored as numpy arrays with a shape corresponding to number of bins (in all dimensions). Again, you cannot manipulate these properties diractly (unless you break the dont-touch-the-underscore convention)."
      ],
      "metadata": {}
    },
    {
      "cell_type": "code",
      "source": [
        "hist = h1(data, \"human\")\n",
        "\nhist.frequencies"
      ],
      "outputs": [
        {
          "output_type": "execute_result",
          "execution_count": 27,
          "data": {
            "text/plain": [
              "array([   2,   23,  140,  604, 1580, 2601, 2691, 1640,  573,  124,   17,\n",
              "          5])"
            ]
          },
          "metadata": {}
        }
      ],
      "execution_count": 27,
      "metadata": {
        "collapsed": false
      }
    },
    {
      "cell_type": "markdown",
      "source": [
        "Errors are calculated as $\\sqrt(N)$ which is the simplest expectation for independent values. If you don't accept this, you can set your errors through `_errors2` field which contains squared errors.\n",
        "\nNote: Filling with weights, arithmetic operations and scaling preserve correct error values under similar conditions."
      ],
      "metadata": {}
    },
    {
      "cell_type": "code",
      "source": [
        "hist.errors"
      ],
      "outputs": [
        {
          "output_type": "execute_result",
          "execution_count": 28,
          "data": {
            "text/plain": [
              "array([  1.41421356,   4.79583152,  11.83215957,  24.57641145,\n",
              "        39.74921383,  51.        ,  51.8748494 ,  40.49691346,\n",
              "        23.93741841,  11.13552873,   4.12310563,   2.23606798])"
            ]
          },
          "metadata": {}
        }
      ],
      "execution_count": 28,
      "metadata": {
        "collapsed": false
      }
    },
    {
      "cell_type": "code",
      "source": [
        "# Doubling the histogram doubles the error\n",
        "(hist * 2).errors"
      ],
      "outputs": [
        {
          "output_type": "execute_result",
          "execution_count": 29,
          "data": {
            "text/plain": [
              "array([   2.82842712,    9.59166305,   23.66431913,   49.15282291,\n",
              "         79.49842766,  102.        ,  103.74969879,   80.99382693,\n",
              "         47.87483681,   22.27105745,    8.24621125,    4.47213595])"
            ]
          },
          "metadata": {}
        }
      ],
      "execution_count": 29,
      "metadata": {
        "collapsed": false
      }
    },
    {
      "cell_type": "markdown",
      "source": [
        "### Data types\n",
        "\nInternally, histogram bins can contain values in several types (`dtype` in numpy terminology). By default, this is either `np.int64` (for histograms without weights) or `np.float64` (for histograms with weight). Wherever possible, this distinction is preserved. If you try filling in with weights, if you multiply by a float constant, if you divide, ... - basically whenever this is reasonable - an integer histogram is automatically converted to a float one. "
      ],
      "metadata": {}
    },
    {
      "cell_type": "code",
      "source": [
        "hist = h1(data)\n",
        "print(\"Default type:\", hist.dtype)\n",
        "\n",
        "hist = h1(data, weights=np.abs(data))    # Add some random weights\n",
        "print(\"Default type with weights:\", hist.dtype)\n",
        "\n",
        "hist = h1(data)\n",
        "hist.fill(1.0, weight=.44)\n",
        "print(\"Default type after filling with weight:\", hist.dtype)\n",
        "\n",
        "hist = h1(data)\n",
        "hist *= 2\n",
        "print(\"Default type after multiplying by an int:\", hist.dtype)\n",
        "\n",
        "hist *= 5.6\n",
        "print(\"Default type after multiplying by a float:\", hist.dtype)"
      ],
      "outputs": [
        {
          "output_type": "stream",
          "name": "stdout",
          "text": [
            "Default type: int64\n",
            "Default type with weights: float64\n",
            "Default type after filling with weight: float64\n",
            "Default type after multiplying by an int: int64\n",
            "Default type after multiplying by a float: float64\n"
          ]
        }
      ],
      "execution_count": 30,
      "metadata": {
        "collapsed": false
      }
    },
    {
      "cell_type": "code",
      "source": [
        "# You can specify the type in the method call\n",
        "hist = h1(data, dtype=\"int32\")\n",
        "hist.dtype"
      ],
      "outputs": [
        {
          "output_type": "execute_result",
          "execution_count": 31,
          "data": {
            "text/plain": [
              "dtype('int32')"
            ]
          },
          "metadata": {}
        }
      ],
      "execution_count": 31,
      "metadata": {
        "collapsed": false
      }
    },
    {
      "cell_type": "code",
      "source": [
        "# You can set the type of the histogram using the attribute\n",
        "hist = h1(data)\n",
        "hist.dtype = np.int32\n",
        "hist.dtype"
      ],
      "outputs": [
        {
          "output_type": "execute_result",
          "execution_count": 32,
          "data": {
            "text/plain": [
              "dtype('int32')"
            ]
          },
          "metadata": {}
        }
      ],
      "execution_count": 32,
      "metadata": {
        "collapsed": false
      }
    },
    {
      "cell_type": "code",
      "source": [
        "# Adding two histograms uses the broader range\n",
        "hist1 = h1(data, dtype=\"int64\")\n",
        "hist2 = h1(data, dtype=\"float32\")\n",
        "(hist1 + hist2).dtype    # See the result!"
      ],
      "outputs": [
        {
          "output_type": "execute_result",
          "execution_count": 33,
          "data": {
            "text/plain": [
              "dtype('float64')"
            ]
          },
          "metadata": {}
        }
      ],
      "execution_count": 33,
      "metadata": {
        "collapsed": false
      }
    },
    {
      "cell_type": "markdown",
      "source": [
        "### Manually create histogram instances\n",
        "\nAs mentioned, `h1` and `h2` are just facade functions. You can construct the objects directly using the constructors. The first argument accepts something that can be interpreted as binning or list of bins, second argument is an array of frequencies (numpy array or something convertible)."
      ],
      "metadata": {}
    },
    {
      "cell_type": "code",
      "source": [
        "from physt.histogram1d import Histogram1D\n",
        "from physt.histogram_nd import Histogram2D\n",
        "hist1 = Histogram1D([0.0, 0.2, 0.4, 0.6, 0.8, 1.0], [1, 2, 3, 4, 5])\n",
        "hist2 = Histogram2D([[0, 0.5, 1], [0, 1, 2, 3]], [[0.2, 2.2, 7.3], [6, 5, 3]], axis_names=[\"x\", \"y\"])\n",
        "\n",
        "fig, axes = plt.subplots(1, 2, figsize=(10, 4))\n",
        "hist1.plot(ax = axes[0])\n",
        "hist2.plot(ax = axes[1])\n",
        "hist1, hist2"
      ],
      "outputs": [
        {
          "output_type": "execute_result",
          "execution_count": 34,
          "data": {
            "text/plain": [
              "(Histogram1D(bins=(5,), total=15, dtype=int64),\n",
              " Histogram2D(bins=(2, 3), total=23.7, dtype=float64))"
            ]
          },
          "metadata": {}
        },
        {
          "output_type": "display_data",
          "data": {
            "text/plain": [
              "<matplotlib.figure.Figure at 0x7fd9b65f45f8>"
            ],
            "image/png": "[encoded data removed]"
          },
          "metadata": {}
        }
      ],
      "execution_count": 34,
      "metadata": {
        "collapsed": false
      }
    },
    {
      "cell_type": "code",
      "source": [
        "# Create a physt \"logo\", also available as physt.examples.fist\n",
        "_, ax = plt.subplots(figsize=(4, 4))\n",
        "widths = np.cumsum([0, 1.2, 0.2, 1, 0.1, 1, 0.1, 0.9, 0.1, 0.8])\n",
        "fingers = np.asarray([4, 1, 7.5, 6, 7.6, 6, 7.5, 6, 7.2]) + 5\n",
        "hist1 = Histogram1D(widths, fingers)\n",
        "hist1.plot(lw=0, ax=ax)\n",
        "ax.set_xticks([])\n",
        "ax.set_yticks([])\n",
        "ax.set_xlabel(\"physt\")\n",
        "hist1"
      ],
      "outputs": [
        {
          "output_type": "execute_result",
          "execution_count": 35,
          "data": {
            "text/plain": [
              "Histogram1D(bins=(9,), total=97.8, dtype=float64)"
            ]
          },
          "metadata": {}
        },
        {
          "output_type": "display_data",
          "data": {
            "text/plain": [
              "<matplotlib.figure.Figure at 0x7fd9b6362f98>"
            ],
            "image/png": "[encoded data removed]"
          },
          "metadata": {}
        }
      ],
      "execution_count": 35,
      "metadata": {
        "collapsed": false
      }
    },
    {
      "cell_type": "markdown",
      "source": [
        "## Indexing"
      ],
      "metadata": {}
    },
    {
      "cell_type": "markdown",
      "source": [
        "Supported indexing is more or less compatible with numpy arrays."
      ],
      "metadata": {}
    },
    {
      "cell_type": "code",
      "source": [
        "hist.find_bin(3)             # Find a proper bin for some value (0 - based indices)"
      ],
      "outputs": [
        {
          "output_type": "execute_result",
          "execution_count": 36,
          "data": {
            "text/plain": [
              "5"
            ]
          },
          "metadata": {}
        }
      ],
      "execution_count": 36,
      "metadata": {
        "collapsed": false
      }
    },
    {
      "cell_type": "code",
      "source": [
        "hist[3]                      # Return the bin (with frequency)"
      ],
      "outputs": [
        {
          "output_type": "execute_result",
          "execution_count": 37,
          "data": {
            "text/plain": [
              "(array([-10.66146002,  -5.25163815]), 1600)"
            ]
          },
          "metadata": {}
        }
      ],
      "execution_count": 37,
      "metadata": {
        "collapsed": false
      }
    },
    {
      "cell_type": "code",
      "source": [
        "hist[-3:]                    # Sub-histogram (as slice)"
      ],
      "outputs": [
        {
          "output_type": "execute_result",
          "execution_count": 38,
          "data": {
            "text/plain": [
              "Histogram1D(bins=(3,), total=559, dtype=int32)"
            ]
          },
          "metadata": {}
        }
      ],
      "execution_count": 38,
      "metadata": {
        "collapsed": false
      }
    },
    {
      "cell_type": "code",
      "source": [
        "hist[hist.frequencies > 5]   # Masked array (destroys underflow & overflow information)"
      ],
      "outputs": [
        {
          "output_type": "execute_result",
          "execution_count": 39,
          "data": {
            "text/plain": [
              "Histogram1D(bins=(10,), total=10000, dtype=int32)"
            ]
          },
          "metadata": {}
        }
      ],
      "execution_count": 39,
      "metadata": {
        "collapsed": false
      }
    },
    {
      "cell_type": "code",
      "source": [
        "hist[[1, 3, 5]]              # Select some of the bins"
      ],
      "outputs": [
        {
          "output_type": "execute_result",
          "execution_count": 40,
          "data": {
            "text/plain": [
              "Histogram1D(bins=(3,), total=4550, dtype=int32)"
            ]
          },
          "metadata": {}
        }
      ],
      "execution_count": 40,
      "metadata": {
        "collapsed": false
      }
    },
    {
      "cell_type": "markdown",
      "source": [
        "## Statistics\n",
        "\n",
        "When creating histograms, it is possible to keep simple statistics about the sampled distribution,\n",
        "like mean() and std(). The behaviour was inspired by similar features in ROOT.\n",
        "\n**To be yet refined.**"
      ],
      "metadata": {}
    },
    {
      "cell_type": "code",
      "source": [
        "hist.mean()"
      ],
      "outputs": [
        {
          "output_type": "execute_result",
          "execution_count": 41,
          "data": {
            "text/plain": [
              "0.007186746661025421"
            ]
          },
          "metadata": {}
        }
      ],
      "execution_count": 41,
      "metadata": {
        "collapsed": false
      }
    },
    {
      "cell_type": "code",
      "source": [
        "hist.std()"
      ],
      "outputs": [
        {
          "output_type": "execute_result",
          "execution_count": 42,
          "data": {
            "text/plain": [
              "6.9573656863839011"
            ]
          },
          "metadata": {}
        }
      ],
      "execution_count": 42,
      "metadata": {
        "collapsed": false
      }
    },
    {
      "cell_type": "markdown",
      "source": [
        "## Plotting\n",
        "\nThis is currently based on matplotlib, but other tools might come later (d3.js, bokeh?)"
      ],
      "metadata": {}
    },
    {
      "cell_type": "code",
      "source": [
        "hist.plot();     # Basic plot"
      ],
      "outputs": [
        {
          "output_type": "display_data",
          "data": {
            "text/plain": [
              "<matplotlib.figure.Figure at 0x7fd9b631eb00>"
            ],
            "image/png": "[encoded data removed]"
          },
          "metadata": {}
        }
      ],
      "execution_count": 43,
      "metadata": {
        "collapsed": false
      }
    },
    {
      "cell_type": "code",
      "source": [
        "hist.plot(density=True, errors=True, ecolor=\"red\");   # Include errors"
      ],
      "outputs": [
        {
          "output_type": "display_data",
          "data": {
            "text/plain": [
              "<matplotlib.figure.Figure at 0x7fd9b6301e10>"
            ],
            "image/png": "[encoded data removed]"
          },
          "metadata": {}
        }
      ],
      "execution_count": 44,
      "metadata": {
        "collapsed": false
      }
    },
    {
      "cell_type": "code",
      "source": [
        "hist.plot(show_stats=True, errors=True, alpha=0.3);    # Show summary statistics (not fully supported yet)"
      ],
      "outputs": [
        {
          "output_type": "display_data",
          "data": {
            "text/plain": [
              "<matplotlib.figure.Figure at 0x7fd9b6204d30>"
            ],
            "image/png": "[encoded data removed]"
          },
          "metadata": {}
        }
      ],
      "execution_count": 45,
      "metadata": {
        "collapsed": false
      }
    },
    {
      "cell_type": "code",
      "source": [
        "hist.plot(cumulative=True, color=\"yellow\", lw=3, edgecolor=\"red\");           # Use matplotlib parameters"
      ],
      "outputs": [
        {
          "output_type": "display_data",
          "data": {
            "text/plain": [
              "<matplotlib.figure.Figure at 0x7fd9b614a080>"
            ],
            "image/png": "[encoded data removed]"
          },
          "metadata": {}
        }
      ],
      "execution_count": 46,
      "metadata": {
        "collapsed": false
      }
    },
    {
      "cell_type": "code",
      "source": [
        "hist.plot(kind=\"scatter\", s=hist.frequencies, cmap=\"rainbow\", density=True);    # Another plot type"
      ],
      "outputs": [
        {
          "output_type": "display_data",
          "data": {
            "text/plain": [
              "<matplotlib.figure.Figure at 0x7fd9b65f49e8>"
            ],
            "image/png": "[encoded data removed]"
          },
          "metadata": {}
        }
      ],
      "execution_count": 47,
      "metadata": {
        "collapsed": false
      }
    },
    {
      "cell_type": "code",
      "source": [
        "# Plot different bins using different styles\n",
        "axis = hist[hist.frequencies > 5].plot(label=\"High\", alpha=0.5)\n",
        "hist[1:-1][hist[1:-1].frequencies <= 5].plot(ax=axis, color=\"green\", label=\"Low\", alpha=0.5)\n",
        "hist[[0, -1]].plot(ax=axis, color=\"red\", label=\"Edge cases\", alpha=0.5)\n",
        "hist.plot(kind=\"scatter\", ax=axis, s=hist.frequencies / 10, label=\"Scatter\")\n",
        "# axis.legend();     # Does not work - why?"
      ],
      "outputs": [
        {
          "output_type": "execute_result",
          "execution_count": 48,
          "data": {
            "text/plain": [
              "<matplotlib.axes._subplots.AxesSubplot at 0x7fd9b651ce80>"
            ]
          },
          "metadata": {}
        },
        {
          "output_type": "display_data",
          "data": {
            "text/plain": [
              "<matplotlib.figure.Figure at 0x7fd9b6179b00>"
            ],
            "image/png": "[encoded data removed]"
          },
          "metadata": {}
        }
      ],
      "execution_count": 48,
      "metadata": {
        "collapsed": false
      }
    },
    {
      "cell_type": "code",
      "source": [
        "# Bar plot with colormap (with logarithmic scale)\n",
        "ax = hist.plot(cmap=\"Reds_r\", yscale=\"log\", show_values=True);"
      ],
      "outputs": [
        {
          "output_type": "display_data",
          "data": {
            "text/plain": [
              "<matplotlib.figure.Figure at 0x7fd9b65ccb70>"
            ],
            "image/png": "[encoded data removed]"
          },
          "metadata": {}
        }
      ],
      "execution_count": 49,
      "metadata": {
        "collapsed": false
      }
    },
    {
      "cell_type": "markdown",
      "source": [
        "## Irregular binning and densities"
      ],
      "metadata": {}
    },
    {
      "cell_type": "code",
      "source": [
        "figure, axes = plt.subplots(1, 3, figsize=(11, 3))\n",
        "\n",
        "hist_irregular = histogram(heights, [160, 162, 166, 167, 175, 188, 191])\n",
        "hist_irregular.plot(ax=axes[0], errors=True, cmap=\"rainbow\");\n",
        "hist_irregular.plot(ax=axes[1], density=True, errors=True, cmap=\"rainbow\");\n",
        "hist_irregular.plot(ax=axes[2], density=True, cumulative=True, cmap=\"rainbow\");\n",
        "\n",
        "axes[0].set_title(\"Absolute values\")\n",
        "axes[1].set_title(\"Densities\")\n",
        "axes[2].set_title(\"Cumulative\");"
      ],
      "outputs": [
        {
          "output_type": "display_data",
          "data": {
            "text/plain": [
              "<matplotlib.figure.Figure at 0x7fd9b65d4a58>"
            ],
            "image/png": "[encoded data removed]"
          },
          "metadata": {}
        }
      ],
      "execution_count": 50,
      "metadata": {
        "collapsed": false
      }
    },
    {
      "cell_type": "markdown",
      "source": [
        "## Adding new values"
      ],
      "metadata": {}
    },
    {
      "cell_type": "markdown",
      "source": [
        "### Add (fill) single values"
      ],
      "metadata": {}
    },
    {
      "cell_type": "code",
      "source": [
        "figure, axes = plt.subplots(1, 4, figsize=(12, 3))\n",
        "\n",
        "hist3 = histogram([], 20, range=(160, 200))\n",
        "\n",
        "for i, ax in enumerate(axes):\n",
        "    for height in np.random.normal(165 + 10 * i, 2.8, 10000):\n",
        "        hist3.fill(height)\n",
        "    hist3.plot(ax=ax);\n",
        "    print(\"After {0} batches: {1}\".format(i, hist3))\n",
        "figure.tight_layout()"
      ],
      "outputs": [
        {
          "output_type": "stream",
          "name": "stdout",
          "text": [
            "After 0 batches: Histogram1D(bins=(20,), total=9648, dtype=int64)\n",
            "After 1 batches: Histogram1D(bins=(20,), total=19648, dtype=int64)\n",
            "After 2 batches: Histogram1D(bins=(20,), total=29648, dtype=int64)\n",
            "After 3 batches: Histogram1D(bins=(20,), total=39251, dtype=int64)\n"
          ]
        },
        {
          "output_type": "display_data",
          "data": {
            "text/plain": [
              "<matplotlib.figure.Figure at 0x7fd9b62df160>"
            ],
            "image/png": "[encoded data removed]"
          },
          "metadata": {}
        }
      ],
      "execution_count": 51,
      "metadata": {
        "collapsed": false
      }
    },
    {
      "cell_type": "markdown",
      "source": [
        "### Add histograms with same binning"
      ],
      "metadata": {}
    },
    {
      "cell_type": "code",
      "source": [
        "heights1 = histogram(np.random.normal(169, 10, 100000), 50, range=(150, 200))\n",
        "heights2 = histogram(np.random.normal(180, 11, 100000), 50, range=(150, 200))\n",
        "\n\n",
        "total = heights1 + heights2\n",
        "\n",
        "axis = heights1.plot(label=\"Women\", color=\"red\", alpha=0.5)\n",
        "heights2.plot(label=\"Men\", color=\"blue\", alpha=0.5, ax=axis)\n",
        "total.plot(label=\"All\", color=\"gray\", alpha=0.5, ax=axis)\n",
        "axis.legend();"
      ],
      "outputs": [
        {
          "output_type": "display_data",
          "data": {
            "text/plain": [
              "<matplotlib.figure.Figure at 0x7fd9b5d5e2b0>"
            ],
            "image/png": "[encoded data removed]"
          },
          "metadata": {}
        }
      ],
      "execution_count": 52,
      "metadata": {
        "collapsed": false
      }
    },
    {
      "cell_type": "markdown",
      "source": [
        "## Compatibility\n",
        "\nNote: Mostly, the compatibility is a trivial consequence of the object being convertible to numpy array"
      ],
      "metadata": {}
    },
    {
      "cell_type": "code",
      "source": [
        "# Convert to pandas dataframe\n",
        "hist.to_dataframe()"
      ],
      "outputs": [
        {
          "output_type": "execute_result",
          "execution_count": 53,
          "data": {
            "text/plain": [
              "        left      right  frequency      error\n",
              "0 -26.890926 -21.481104         10   3.162278\n",
              "1 -21.481104 -16.071282        100  10.000000\n",
              "2 -16.071282 -10.661460        534  23.108440\n",
              "3 -10.661460  -5.251638       1600  40.000000\n",
              "4  -5.251638   0.158184       2803  52.943366\n",
              "5   0.158184   5.568006       2850  53.385391\n",
              "6   5.568006  10.977827       1544  39.293765\n",
              "7  10.977827  16.387649        471  21.702534\n",
              "8  16.387649  21.797471         75   8.660254\n",
              "9  21.797471  27.207293         13   3.605551"
            ],
            "text/html": [
              "<div>\n",
              "<style>\n",
              "    .dataframe thead tr:only-child th {\n",
              "        text-align: right;\n",
              "    }\n",
              "\n",
              "    .dataframe thead th {\n",
              "        text-align: left;\n",
              "    }\n",
              "\n",
              "    .dataframe tbody tr th {\n",
              "        vertical-align: top;\n",
              "    }\n",
              "</style>\n",
              "<table border=\"1\" class=\"dataframe\">\n",
              "  <thead>\n",
              "    <tr style=\"text-align: right;\">\n",
              "      <th></th>\n",
              "      <th>left</th>\n",
              "      <th>right</th>\n",
              "      <th>frequency</th>\n",
              "      <th>error</th>\n",
              "    </tr>\n",
              "  </thead>\n",
              "  <tbody>\n",
              "    <tr>\n",
              "      <th>0</th>\n",
              "      <td>-26.890926</td>\n",
              "      <td>-21.481104</td>\n",
              "      <td>10</td>\n",
              "      <td>3.162278</td>\n",
              "    </tr>\n",
              "    <tr>\n",
              "      <th>1</th>\n",
              "      <td>-21.481104</td>\n",
              "      <td>-16.071282</td>\n",
              "      <td>100</td>\n",
              "      <td>10.000000</td>\n",
              "    </tr>\n",
              "    <tr>\n",
              "      <th>2</th>\n",
              "      <td>-16.071282</td>\n",
              "      <td>-10.661460</td>\n",
              "      <td>534</td>\n",
              "      <td>23.108440</td>\n",
              "    </tr>\n",
              "    <tr>\n",
              "      <th>3</th>\n",
              "      <td>-10.661460</td>\n",
              "      <td>-5.251638</td>\n",
              "      <td>1600</td>\n",
              "      <td>40.000000</td>\n",
              "    </tr>\n",
              "    <tr>\n",
              "      <th>4</th>\n",
              "      <td>-5.251638</td>\n",
              "      <td>0.158184</td>\n",
              "      <td>2803</td>\n",
              "      <td>52.943366</td>\n",
              "    </tr>\n",
              "    <tr>\n",
              "      <th>5</th>\n",
              "      <td>0.158184</td>\n",
              "      <td>5.568006</td>\n",
              "      <td>2850</td>\n",
              "      <td>53.385391</td>\n",
              "    </tr>\n",
              "    <tr>\n",
              "      <th>6</th>\n",
              "      <td>5.568006</td>\n",
              "      <td>10.977827</td>\n",
              "      <td>1544</td>\n",
              "      <td>39.293765</td>\n",
              "    </tr>\n",
              "    <tr>\n",
              "      <th>7</th>\n",
              "      <td>10.977827</td>\n",
              "      <td>16.387649</td>\n",
              "      <td>471</td>\n",
              "      <td>21.702534</td>\n",
              "    </tr>\n",
              "    <tr>\n",
              "      <th>8</th>\n",
              "      <td>16.387649</td>\n",
              "      <td>21.797471</td>\n",
              "      <td>75</td>\n",
              "      <td>8.660254</td>\n",
              "    </tr>\n",
              "    <tr>\n",
              "      <th>9</th>\n",
              "      <td>21.797471</td>\n",
              "      <td>27.207293</td>\n",
              "      <td>13</td>\n",
              "      <td>3.605551</td>\n",
              "    </tr>\n",
              "  </tbody>\n",
              "</table>\n",
              "</div>"
            ]
          },
          "metadata": {}
        }
      ],
      "execution_count": 53,
      "metadata": {
        "collapsed": false
      }
    },
    {
      "cell_type": "code",
      "source": [
        "# Works on xarray\n",
        "import xarray as xr\n",
        "arr = xr.DataArray(np.random.rand(10, 50, 100))\n",
        "histogram(arr).plot(cmap=\"Reds_r\", cmap_min=4744, cmap_max=5100, lw=1, edgecolor=\"red\", show_values=True);"
      ],
      "outputs": [
        {
          "output_type": "display_data",
          "data": {
            "text/plain": [
              "<matplotlib.figure.Figure at 0x7fd9b47a5630>"
            ],
            "image/png": "[encoded data removed]"
          },
          "metadata": {}
        }
      ],
      "execution_count": 54,
      "metadata": {
        "collapsed": false
      }
    },
    {
      "cell_type": "code",
      "source": [
        "# Works on pandas dataseries\n",
        "import pandas as pd\n",
        "series = pd.Series(heights, name=\"height [cm]\")\n",
        "hist = histogram(series, title=\"Height distribution\")\n",
        "hist.plot()\n",
        "hist"
      ],
      "outputs": [
        {
          "output_type": "execute_result",
          "execution_count": 55,
          "data": {
            "text/plain": [
              "Histogram1D(bins=(10,), total=100, dtype=int64)"
            ]
          },
          "metadata": {}
        },
        {
          "output_type": "display_data",
          "data": {
            "text/plain": [
              "<matplotlib.figure.Figure at 0x7fd9b6273fd0>"
            ],
            "image/png": "[encoded data removed]"
          },
          "metadata": {}
        }
      ],
      "execution_count": 55,
      "metadata": {
        "collapsed": false
      }
    },
    {
      "cell_type": "code",
      "source": [
        "# Works on blaze data fields\n",
        "from blaze import Data\n",
        "from blaze.utils import example\n",
        "iris = Data(example('iris.csv'))\n",
        "histogram(iris.sepal_length, 10).plot();"
      ],
      "outputs": [
        {
          "output_type": "stream",
          "name": "stderr",
          "text": [
            "/home/honza/opt/anaconda3/lib/python3.6/site-packages/odo/backends/pandas.py:102: FutureWarning:\n",
            "\n",
            "pandas.tslib is deprecated and will be removed in a future version.\n",
            "You can access NaTType as type(pandas.NaT)\n",
            "\n"
          ]
        },
        {
          "output_type": "display_data",
          "data": {
            "text/plain": [
              "<matplotlib.figure.Figure at 0x7fd9a333f9e8>"
            ],
            "image/png": "[encoded data removed]"
          },
          "metadata": {}
        }
      ],
      "execution_count": 56,
      "metadata": {
        "collapsed": false
      }
    },
    {
      "cell_type": "markdown",
      "source": [
        "## Export & import"
      ],
      "metadata": {}
    },
    {
      "cell_type": "code",
      "source": [
        "json = hist.to_json()     # add path argument to write it to file\n",
        "json"
      ],
      "outputs": [
        {
          "output_type": "execute_result",
          "execution_count": 57,
          "data": {
            "text/plain": [
              "'{\"histogram_type\": \"Histogram1D\", \"binnings\": [{\"adaptive\": false, \"binning_type\": \"NumpyBinning\", \"numpy_bins\": [144.46274207992508, 148.91498677707023, 153.36723147421537, 157.81947617136055, 162.2717208685057, 166.72396556565084, 171.176210262796, 175.62845495994114, 180.0806996570863, 184.53294435423146, 188.9851890513766]}], \"frequencies\": [2, 4, 4, 15, 11, 12, 19, 17, 7, 9], \"dtype\": \"int64\", \"errors2\": [2, 4, 4, 15, 11, 12, 19, 17, 7, 9], \"meta_data\": {\"name\": null, \"axis_names\": [\"height [cm]\"]}, \"missed\": [0, 0, 0], \"missed_keep\": true, \"physt_version\": \"0.3.37\", \"physt_compatible\": \"0.3.20\"}'"
            ]
          },
          "metadata": {}
        }
      ],
      "execution_count": 57,
      "metadata": {
        "collapsed": false
      }
    },
    {
      "cell_type": "code",
      "source": [
        "from physt.io import parse_json\n",
        "hist = parse_json(json)\n",
        "hist.plot()\n",
        "hist"
      ],
      "outputs": [
        {
          "output_type": "execute_result",
          "execution_count": 58,
          "data": {
            "text/plain": [
              "Histogram1D(bins=(10,), total=100, dtype=int64)"
            ]
          },
          "metadata": {}
        },
        {
          "output_type": "display_data",
          "data": {
            "text/plain": [
              "<matplotlib.figure.Figure at 0x7fd9a32a7ef0>"
            ],
            "image/png": "[encoded data removed]"
          },
          "metadata": {}
        }
      ],
      "execution_count": 58,
      "metadata": {
        "collapsed": false
      }
    }
  ],
  "metadata": {
    "anaconda-cloud": {},
    "kernelspec": {
      "name": "python3",
      "language": "python",
      "display_name": "Python 3"
    },
    "language_info": {
      "name": "python",
      "version": "3.6.2",
      "mimetype": "text/x-python",
      "codemirror_mode": {
        "name": "ipython",
        "version": 3
      },
      "pygments_lexer": "ipython3",
      "nbconvert_exporter": "python",
      "file_extension": ".py"
    },
    "kernel_info": {
      "name": "python3"
    },
    "nteract": {
      "version": "0.9.1"
    }
  },
  "nbformat": 4,
  "nbformat_minor": 0
}