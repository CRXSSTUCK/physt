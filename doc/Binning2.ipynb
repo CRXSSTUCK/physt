{
 "cells": [
  {
   "cell_type": "code",
   "execution_count": 1,
   "metadata": {
    "collapsed": false
   },
   "outputs": [],
   "source": [
    "from physt.binning import *\n",
    "import numpy as np"
   ]
  },
  {
   "cell_type": "code",
   "execution_count": 7,
   "metadata": {
    "collapsed": false
   },
   "outputs": [
    {
     "data": {
      "text/plain": [
       "(0.0141858663872233, 0.99610970438266799)"
      ]
     },
     "execution_count": 7,
     "metadata": {},
     "output_type": "execute_result"
    }
   ],
   "source": [
    "data = np.random.rand(20)\n",
    "data.min(), data.max()"
   ]
  },
  {
   "cell_type": "code",
   "execution_count": 8,
   "metadata": {
    "collapsed": false
   },
   "outputs": [
    {
     "name": "stdout",
     "output_type": "stream",
     "text": [
      "[[ 0.   0.1]\n",
      " [ 0.1  0.2]\n",
      " [ 0.2  0.3]\n",
      " [ 0.3  0.4]\n",
      " [ 0.4  0.5]\n",
      " [ 0.5  0.6]\n",
      " [ 0.6  0.7]\n",
      " [ 0.7  0.8]\n",
      " [ 0.8  0.9]\n",
      " [ 0.9  1. ]]\n",
      "10\n"
     ]
    }
   ],
   "source": [
    "fw = FixedWidthBinning.construct(data, bin_width=0.1)\n",
    "print(fw.bins)\n",
    "print(fw.bin_count)"
   ]
  },
  {
   "cell_type": "code",
   "execution_count": 9,
   "metadata": {
    "collapsed": false
   },
   "outputs": [
    {
     "name": "stdout",
     "output_type": "stream",
     "text": [
      "[[ 0.01418587  0.02603962]\n",
      " [ 0.02603962  0.0477984 ]\n",
      " [ 0.0477984   0.08773889]\n",
      " [ 0.08773889  0.16105377]\n",
      " [ 0.16105377  0.29563078]\n",
      " [ 0.29563078  0.54266075]\n",
      " [ 0.54266075  0.9961097 ]]\n",
      "7\n"
     ]
    }
   ],
   "source": [
    "ex = ExponentialBinning.construct(data)\n",
    "print(ex.bins)\n",
    "print(ex.bin_count)"
   ]
  },
  {
   "cell_type": "code",
   "execution_count": 10,
   "metadata": {
    "collapsed": false
   },
   "outputs": [
    {
     "name": "stdout",
     "output_type": "stream",
     "text": [
      "[[ 0.01418587  0.11237825]\n",
      " [ 0.11237825  0.21057063]\n",
      " [ 0.21057063  0.30876302]\n",
      " [ 0.30876302  0.4069554 ]\n",
      " [ 0.4069554   0.50514779]\n",
      " [ 0.50514779  0.60334017]\n",
      " [ 0.60334017  0.70153255]\n",
      " [ 0.70153255  0.79972494]\n",
      " [ 0.79972494  0.89791732]\n",
      " [ 0.89791732  0.9961097 ]]\n",
      "10\n"
     ]
    }
   ],
   "source": [
    "n = NumpyBinning.construct(data)\n",
    "print(n.bins)\n",
    "print(n.bin_count)"
   ]
  },
  {
   "cell_type": "code",
   "execution_count": 11,
   "metadata": {
    "collapsed": false
   },
   "outputs": [
    {
     "name": "stdout",
     "output_type": "stream",
     "text": [
      "[[ 0.01418587  0.04446474]\n",
      " [ 0.04446474  0.05960974]\n",
      " [ 0.05960974  0.13170497]\n",
      " [ 0.13170497  0.24751818]\n",
      " [ 0.24751818  0.36322358]\n",
      " [ 0.36322358  0.45573074]\n",
      " [ 0.45573074  0.82912751]\n",
      " [ 0.82912751  0.93244006]\n",
      " [ 0.93244006  0.95368854]\n",
      " [ 0.95368854  0.9961097 ]]\n",
      "10\n"
     ]
    }
   ],
   "source": [
    "qb = QuantileBinning.construct(data)\n",
    "print(qb.bins)\n",
    "print(qb.bin_count)"
   ]
  },
  {
   "cell_type": "code",
   "execution_count": 12,
   "metadata": {
    "collapsed": false
   },
   "outputs": [
    {
     "name": "stdout",
     "output_type": "stream",
     "text": [
      "[[ 0.   0.1]\n",
      " [ 0.1  0.2]\n",
      " [ 0.2  0.3]\n",
      " [ 0.3  0.4]\n",
      " [ 0.4  0.5]\n",
      " [ 0.5  0.6]\n",
      " [ 0.6  0.7]\n",
      " [ 0.7  0.8]\n",
      " [ 0.8  0.9]\n",
      " [ 0.9  1. ]]\n",
      "10\n"
     ]
    }
   ],
   "source": [
    "hb = HumanBinning.construct(data)\n",
    "print(hb.bins)\n",
    "print(hb.bin_count)"
   ]
  },
  {
   "cell_type": "code",
   "execution_count": null,
   "metadata": {
    "collapsed": true
   },
   "outputs": [],
   "source": []
  }
 ],
 "metadata": {
  "kernelspec": {
   "display_name": "Python 3",
   "language": "python",
   "name": "python3"
  },
  "language_info": {
   "codemirror_mode": {
    "name": "ipython",
    "version": 3
   },
   "file_extension": ".py",
   "mimetype": "text/x-python",
   "name": "python",
   "nbconvert_exporter": "python",
   "pygments_lexer": "ipython3",
   "version": "3.5.1"
  }
 },
 "nbformat": 4,
 "nbformat_minor": 0
}
