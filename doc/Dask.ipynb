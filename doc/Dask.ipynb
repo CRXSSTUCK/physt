{
 "cells": [
  {
   "cell_type": "markdown",
   "metadata": {},
   "source": [
    "# Support for dask arrays\n",
    "\n",
    "It is possible to operate on dask arrays and spare the memory (or perhaps even time)."
   ]
  },
  {
   "cell_type": "code",
   "execution_count": 1,
   "metadata": {
    "collapsed": false
   },
   "outputs": [],
   "source": [
    "# Necessary imports\n",
    "import dask\n",
    "import dask.multiprocessing\n",
    "import physt\n",
    "import numpy as np\n",
    "\n",
    "import dask.array as da\n",
    "from physt import h1, h2\n",
    "%matplotlib inline"
   ]
  },
  {
   "cell_type": "code",
   "execution_count": 2,
   "metadata": {
    "collapsed": false
   },
   "outputs": [],
   "source": [
    "# Create two arrays\n",
    "np.random.seed(42)\n",
    "\n",
    "SIZE = 2 ** 21\n",
    "CHUNK = int(SIZE / 16)\n",
    "\n",
    "million = np.random.rand(SIZE)#.astype(int)\n",
    "million2 = (3 * million + np.random.normal(0., 0.3, SIZE))#.astype(int)\n",
    "\n",
    "# Chunk them for dask\n",
    "chunked = da.from_array(million, chunks=(CHUNK))\n",
    "chunked2 = da.from_array(million2, chunks=(CHUNK))"
   ]
  },
  {
   "cell_type": "markdown",
   "metadata": {},
   "source": [
    "## Create histograms\n",
    "\n",
    "`h1`, `h2`, ... have their alternatives in `physt.dask_compat`. They should work similarly. Although, they are not complete and unexpected errors may occur."
   ]
  },
  {
   "cell_type": "code",
   "execution_count": 3,
   "metadata": {
    "collapsed": true
   },
   "outputs": [],
   "source": [
    "from physt.dask_compat import h1 as d1\n",
    "from physt.dask_compat import h2 as d2"
   ]
  },
  {
   "cell_type": "code",
   "execution_count": 4,
   "metadata": {
    "collapsed": false
   },
   "outputs": [
    {
     "name": "stdout",
     "output_type": "stream",
     "text": [
      "Check:  True\n"
     ]
    },
    {
     "data": {
      "text/plain": [
       "Histogram1D(bins=28, total=2097152.0)"
      ]
     },
     "execution_count": 4,
     "metadata": {},
     "output_type": "execute_result"
    },
    {
     "data": {
      "image/png": "[encoded data removed]",
      "text/plain": [
       "<matplotlib.figure.Figure at 0x7fc3d44c3860>"
      ]
     },
     "metadata": {},
     "output_type": "display_data"
    }
   ],
   "source": [
    "# Use chunks to create a 1D histogram\n",
    "ha = d1(chunked2, \"fixed_width\", 0.2)\n",
    "check_ha = h1(million2, \"fixed_width\", 0.2)\n",
    "ok = (ha == check_ha)\n",
    "print(\"Check: \", ok)\n",
    "ha.plot()\n",
    "ha"
   ]
  },
  {
   "cell_type": "code",
   "execution_count": 5,
   "metadata": {
    "collapsed": false
   },
   "outputs": [
    {
     "name": "stdout",
     "output_type": "stream",
     "text": [
      "Check:  True\n"
     ]
    },
    {
     "data": {
      "text/plain": [
       "Histogram2D(bins=(5, 28), total=2097152.0)"
      ]
     },
     "execution_count": 5,
     "metadata": {},
     "output_type": "execute_result"
    },
    {
     "data": {
      "image/png": "[encoded data removed]",
      "text/plain": [
       "<matplotlib.figure.Figure at 0x7fc3d410bd30>"
      ]
     },
     "metadata": {},
     "output_type": "display_data"
    }
   ],
   "source": [
    "# Use chunks to create a 2D histogram\n",
    "hb = d2(chunked, chunked2, \"fixed_width\", .2, axis_names=[\"x\", \"y\"])\n",
    "check_hb = h2(million, million2, \"fixed_width\", .2, axis_names=[\"x\", \"y\"])\n",
    "hb.plot(show_zero=False, cmap=\"rainbow\")\n",
    "ok = (hb == check_hb)\n",
    "print(\"Check: \", ok)\n",
    "hb"
   ]
  },
  {
   "cell_type": "code",
   "execution_count": 6,
   "metadata": {
    "collapsed": false
   },
   "outputs": [
    {
     "name": "stdout",
     "output_type": "stream",
     "text": [
      "Check:  True\n"
     ]
    },
    {
     "data": {
      "image/png": "[encoded data removed]",
      "text/plain": [
       "<matplotlib.figure.Figure at 0x7fc41d6a65c0>"
      ]
     },
     "metadata": {},
     "output_type": "display_data"
    }
   ],
   "source": [
    "# And another cross-check\n",
    "hh = hb.projection(\"y\")\n",
    "hh.plot()\n",
    "print(\"Check: \", np.array_equal(hh.frequencies, ha.frequencies))   # Just frequencies"
   ]
  },
  {
   "cell_type": "code",
   "execution_count": 7,
   "metadata": {
    "collapsed": false
   },
   "outputs": [
    {
     "data": {
      "text/plain": [
       "True"
      ]
     },
     "execution_count": 7,
     "metadata": {},
     "output_type": "execute_result"
    }
   ],
   "source": [
    "# Use dask for normal arrays (will automatically split array to chunks)\n",
    "d1(million2, \"fixed_width\", 0.2) == ha"
   ]
  },
  {
   "cell_type": "markdown",
   "metadata": {},
   "source": [
    "## Some timings"
   ]
  },
  {
   "cell_type": "code",
   "execution_count": 12,
   "metadata": {
    "collapsed": false
   },
   "outputs": [
    {
     "name": "stdout",
     "output_type": "stream",
     "text": [
      "CPU times: user 456 ms, sys: 15.8 ms, total: 472 ms\n",
      "Wall time: 89.3 ms\n"
     ]
    },
    {
     "data": {
      "text/plain": [
       "Histogram1D(bins=28, total=2097152.0)"
      ]
     },
     "execution_count": 12,
     "metadata": {},
     "output_type": "execute_result"
    }
   ],
   "source": [
    "%time d1(chunked2, \"fixed_width\", 0.2)"
   ]
  },
  {
   "cell_type": "code",
   "execution_count": 21,
   "metadata": {
    "collapsed": false
   },
   "outputs": [
    {
     "name": "stdout",
     "output_type": "stream",
     "text": [
      "CPU times: user 333 ms, sys: 16.7 ms, total: 350 ms\n",
      "Wall time: 98.6 ms\n"
     ]
    }
   ],
   "source": [
    "%%time\n",
    "# Hyper-threading or not?\n",
    "graph, name = d1(chunked2, \"fixed_width\", 0.2, compute=False)\n",
    "dask.threaded.get(graph, name, num_workers=4)"
   ]
  },
  {
   "cell_type": "code",
   "execution_count": 20,
   "metadata": {
    "collapsed": false
   },
   "outputs": [
    {
     "name": "stdout",
     "output_type": "stream",
     "text": [
      "CPU times: user 550 ms, sys: 13.6 ms, total: 563 ms\n",
      "Wall time: 104 ms\n"
     ]
    },
    {
     "data": {
      "text/plain": [
       "Histogram1D(bins=28, total=2097152.0)"
      ]
     },
     "execution_count": 20,
     "metadata": {},
     "output_type": "execute_result"
    }
   ],
   "source": [
    "%time d1(chunked2, \"fixed_width\", 0.2)"
   ]
  },
  {
   "cell_type": "code",
   "execution_count": 11,
   "metadata": {
    "collapsed": false
   },
   "outputs": [
    {
     "name": "stdout",
     "output_type": "stream",
     "text": [
      "CPU times: user 611 ms, sys: 739 ms, total: 1.35 s\n",
      "Wall time: 1.3 s\n"
     ]
    },
    {
     "data": {
      "text/plain": [
       "Histogram1D(bins=28, total=2097152.0)"
      ]
     },
     "execution_count": 11,
     "metadata": {},
     "output_type": "execute_result"
    }
   ],
   "source": [
    "# Multiprocessing not so efficient for small arrays?\n",
    "%time d1(chunked2, \"fixed_width\", 0.2, dask_method=dask.multiprocessing.get)"
   ]
  }
 ],
 "metadata": {
  "kernelspec": {
   "display_name": "Python 3",
   "language": "python",
   "name": "python3"
  },
  "language_info": {
   "codemirror_mode": {
    "name": "ipython",
    "version": 3
   },
   "file_extension": ".py",
   "mimetype": "text/x-python",
   "name": "python",
   "nbconvert_exporter": "python",
   "pygments_lexer": "ipython3",
   "version": "3.5.1"
  }
 },
 "nbformat": 4,
 "nbformat_minor": 0
}
