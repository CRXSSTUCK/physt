{
 "cells": [
  {
   "cell_type": "code",
   "execution_count": 1,
   "metadata": {
    "collapsed": true
   },
   "outputs": [],
   "source": [
    "# Necessary import evil\n",
    "%matplotlib inline\n",
    "from physt import histogram, binning\n",
    "import numpy as np\n",
    "import matplotlib.pyplot as plt"
   ]
  },
  {
   "cell_type": "markdown",
   "metadata": {},
   "source": [
    "## Creating a histogram"
   ]
  },
  {
   "cell_type": "code",
   "execution_count": 2,
   "metadata": {
    "collapsed": false
   },
   "outputs": [
    {
     "name": "stderr",
     "output_type": "stream",
     "text": [
      "/home/pipek/anaconda3/lib/python3.5/site-packages/numpy/lib/function_base.py:564: VisibleDeprecationWarning: using a non-integer number instead of an integer will result in an error in the future\n",
      "  n = np.zeros(bins, ntype)\n",
      "/home/pipek/anaconda3/lib/python3.5/site-packages/numpy/lib/function_base.py:600: VisibleDeprecationWarning: using a non-integer number instead of an integer will result in an error in the future\n",
      "  n += np.bincount(indices, weights=tmp_w, minlength=bins).astype(ntype)\n"
     ]
    },
    {
     "data": {
      "text/plain": [
       "Histogram1D(bins=7, total=56.0)"
      ]
     },
     "execution_count": 2,
     "metadata": {},
     "output_type": "execute_result"
    }
   ],
   "source": [
    "# Basic dataset\n",
    "heights = [160, 155, 156, 198, 177, 168, 191, 183, 184, 179, 178, 172, 173, 175,\n",
    "           172, 177, 176, 175, 174, 173, 174, 175, 177, 169, 168, 164, 175, 188,\n",
    "           178, 174, 173, 181, 185, 166, 162, 163, 171, 165, 180, 189, 166, 163,\n",
    "           172, 173, 174, 183, 184, 161, 162, 168, 169, 174, 176, 170, 169, 165]\n",
    "\n",
    "hist = histogram(heights)     # Automatically select all settings\n",
    "hist"
   ]
  },
  {
   "cell_type": "code",
   "execution_count": 3,
   "metadata": {
    "collapsed": false
   },
   "outputs": [
    {
     "data": {
      "text/plain": [
       "Histogram1D(bins=10, total=35.0, underflow=19, overflow=2)"
      ]
     },
     "execution_count": 3,
     "metadata": {},
     "output_type": "execute_result"
    }
   ],
   "source": [
    "# Limit bins\n",
    "hist2 = histogram(heights, 10, range=(170, 190))\n",
    "hist2"
   ]
  },
  {
   "cell_type": "markdown",
   "metadata": {},
   "source": [
    "*total* == *underflow* + *overflow* + *sum(frequencies)*"
   ]
  },
  {
   "cell_type": "markdown",
   "metadata": {},
   "source": [
    "## Data representation"
   ]
  },
  {
   "cell_type": "code",
   "execution_count": 4,
   "metadata": {
    "collapsed": false
   },
   "outputs": [
    {
     "data": {
      "text/plain": [
       "array([[ 170.,  172.],\n",
       "       [ 172.,  174.],\n",
       "       [ 174.,  176.],\n",
       "       [ 176.,  178.],\n",
       "       [ 178.,  180.],\n",
       "       [ 180.,  182.],\n",
       "       [ 182.,  184.],\n",
       "       [ 184.,  186.],\n",
       "       [ 186.,  188.],\n",
       "       [ 188.,  190.]])"
      ]
     },
     "execution_count": 4,
     "metadata": {},
     "output_type": "execute_result"
    }
   ],
   "source": [
    "hist2.bins              # Numpy array with left and right edges"
   ]
  },
  {
   "cell_type": "code",
   "execution_count": 5,
   "metadata": {
    "collapsed": false
   },
   "outputs": [
    {
     "data": {
      "text/plain": [
       "array([ 2.,  7.,  9.,  5.,  3.,  2.,  2.,  3.,  0.,  2.])"
      ]
     },
     "execution_count": 5,
     "metadata": {},
     "output_type": "execute_result"
    }
   ],
   "source": [
    "hist2.frequencies       # Numpy array with frequencies"
   ]
  },
  {
   "cell_type": "markdown",
   "metadata": {},
   "source": [
    "## Indexing"
   ]
  },
  {
   "cell_type": "markdown",
   "metadata": {},
   "source": [
    "Supported indexing is more or less compatible with numpy arrays."
   ]
  },
  {
   "cell_type": "code",
   "execution_count": 6,
   "metadata": {
    "collapsed": false
   },
   "outputs": [
    {
     "data": {
      "text/plain": [
       "1"
      ]
     },
     "execution_count": 6,
     "metadata": {},
     "output_type": "execute_result"
    }
   ],
   "source": [
    "hist2.find_bin(173)           # Find a proper bin for some value (0 - based indices)"
   ]
  },
  {
   "cell_type": "code",
   "execution_count": 7,
   "metadata": {
    "collapsed": false
   },
   "outputs": [
    {
     "data": {
      "text/plain": [
       "(array([ 180.,  182.]), 2.0)"
      ]
     },
     "execution_count": 7,
     "metadata": {},
     "output_type": "execute_result"
    }
   ],
   "source": [
    "hist2[5]                      # Return the bin (with frequency)"
   ]
  },
  {
   "cell_type": "code",
   "execution_count": 8,
   "metadata": {
    "collapsed": false
   },
   "outputs": [
    {
     "data": {
      "text/plain": [
       "Histogram1D(bins=3, total=5.0, underflow=49.0, overflow=2)"
      ]
     },
     "execution_count": 8,
     "metadata": {},
     "output_type": "execute_result"
    }
   ],
   "source": [
    "hist2[-3:]                    # Sub-histogram (as slice)"
   ]
  },
  {
   "cell_type": "code",
   "execution_count": 9,
   "metadata": {
    "collapsed": false
   },
   "outputs": [
    {
     "data": {
      "text/plain": [
       "Histogram1D(bins=2, total=16.0, underflow=nan, overflow=nan)"
      ]
     },
     "execution_count": 9,
     "metadata": {},
     "output_type": "execute_result"
    }
   ],
   "source": [
    "hist2[hist2.frequencies > 5]  # Masked array (destroys underflow & overflow information)"
   ]
  },
  {
   "cell_type": "code",
   "execution_count": 10,
   "metadata": {
    "collapsed": false
   },
   "outputs": [
    {
     "data": {
      "text/plain": [
       "Histogram1D(bins=3, total=14.0, underflow=nan, overflow=nan)"
      ]
     },
     "execution_count": 10,
     "metadata": {},
     "output_type": "execute_result"
    }
   ],
   "source": [
    "hist2[[1, 3, 5]]              # Select some of the bins"
   ]
  },
  {
   "cell_type": "markdown",
   "metadata": {},
   "source": [
    "## Statistics\n",
    "\n",
    "When creating histograms, it is possible to keep simple statistics about the sampled distribution,\n",
    "like mean() and std(). The behaviour was inspired by similar features in ROOT.\n",
    "\n",
    "**To be yet refined.**"
   ]
  },
  {
   "cell_type": "code",
   "execution_count": 11,
   "metadata": {
    "collapsed": false
   },
   "outputs": [
    {
     "data": {
      "text/plain": [
       "176.97142857142856"
      ]
     },
     "execution_count": 11,
     "metadata": {},
     "output_type": "execute_result"
    }
   ],
   "source": [
    "hist2.mean()"
   ]
  },
  {
   "cell_type": "code",
   "execution_count": 12,
   "metadata": {
    "collapsed": false
   },
   "outputs": [
    {
     "data": {
      "text/plain": [
       "4.831360141443465"
      ]
     },
     "execution_count": 12,
     "metadata": {},
     "output_type": "execute_result"
    }
   ],
   "source": [
    "hist2.std()"
   ]
  },
  {
   "cell_type": "markdown",
   "metadata": {},
   "source": [
    "## Plotting\n",
    "\n",
    "This is currently based on matplotlib, but other tools might come later (d3.js, bokeh?)"
   ]
  },
  {
   "cell_type": "code",
   "execution_count": 13,
   "metadata": {
    "collapsed": false
   },
   "outputs": [
    {
     "data": {
      "image/png": "[encoded data removed]",
      "text/plain": [
       "<matplotlib.figure.Figure at 0x7ffad8250128>"
      ]
     },
     "metadata": {},
     "output_type": "display_data"
    }
   ],
   "source": [
    "hist.plot();     # Basic plot"
   ]
  },
  {
   "cell_type": "code",
   "execution_count": 14,
   "metadata": {
    "collapsed": false
   },
   "outputs": [
    {
     "data": {
      "image/png": "[encoded data removed]",
      "text/plain": [
       "<matplotlib.figure.Figure at 0x7ffad8250208>"
      ]
     },
     "metadata": {},
     "output_type": "display_data"
    }
   ],
   "source": [
    "hist.plot(density=True, errors=True, ecolor=\"red\");   # Include errors"
   ]
  },
  {
   "cell_type": "code",
   "execution_count": 15,
   "metadata": {
    "collapsed": false
   },
   "outputs": [
    {
     "data": {
      "image/png": "[encoded data removed]",
      "text/plain": [
       "<matplotlib.figure.Figure at 0x7ffab48621d0>"
      ]
     },
     "metadata": {},
     "output_type": "display_data"
    }
   ],
   "source": [
    "hist2.plot(stats_box=True, errors=True, alpha=0.3);    # Show summary statistics"
   ]
  },
  {
   "cell_type": "code",
   "execution_count": 16,
   "metadata": {
    "collapsed": false
   },
   "outputs": [
    {
     "data": {
      "image/png": "[encoded data removed]",
      "text/plain": [
       "<matplotlib.figure.Figure at 0x7ffab432ea58>"
      ]
     },
     "metadata": {},
     "output_type": "display_data"
    }
   ],
   "source": [
    "hist.plot(cumulative=True, color=\"yellow\", lw=3);           # Use matplotlib parameters"
   ]
  },
  {
   "cell_type": "code",
   "execution_count": 17,
   "metadata": {
    "collapsed": false
   },
   "outputs": [
    {
     "data": {
      "image/png": "[encoded data removed]",
      "text/plain": [
       "<matplotlib.figure.Figure at 0x7ffab4348860>"
      ]
     },
     "metadata": {},
     "output_type": "display_data"
    }
   ],
   "source": [
    "hist.plot(histtype=\"scatter\", s=hist.frequencies, density=True, errors=True);    # Another plot type"
   ]
  },
  {
   "cell_type": "code",
   "execution_count": 18,
   "metadata": {
    "collapsed": false
   },
   "outputs": [
    {
     "data": {
      "image/png": "[encoded data removed]",
      "text/plain": [
       "<matplotlib.figure.Figure at 0x7ffab4891f28>"
      ]
     },
     "metadata": {},
     "output_type": "display_data"
    }
   ],
   "source": [
    "# Plot different bins using different styles\n",
    "axis = hist[hist.frequencies > 5].plot(label=\"High\", alpha=0.5)\n",
    "hist[1:-1][hist[1:-1].frequencies <= 5].plot(ax=axis, color=\"green\", label=\"Low\", alpha=0.5)\n",
    "hist[[0, -1]].plot(ax=axis, color=\"red\", label=\"Edge cases\", alpha=0.5)\n",
    "hist.plot(histtype=\"scatter\", ax=axis, c=range(hist.bin_count), s=hist.frequencies * 30)\n",
    "axis.legend();"
   ]
  },
  {
   "cell_type": "code",
   "execution_count": 19,
   "metadata": {
    "collapsed": false
   },
   "outputs": [
    {
     "data": {
      "image/png": "[encoded data removed]",
      "text/plain": [
       "<matplotlib.figure.Figure at 0x7ffab42878d0>"
      ]
     },
     "metadata": {},
     "output_type": "display_data"
    }
   ],
   "source": [
    "# Bar plot with colormap\n",
    "hist.plot(cmap=True);"
   ]
  },
  {
   "cell_type": "markdown",
   "metadata": {},
   "source": [
    "## Irregular binning and densities"
   ]
  },
  {
   "cell_type": "code",
   "execution_count": 20,
   "metadata": {
    "collapsed": false
   },
   "outputs": [
    {
     "data": {
      "image/png": "[encoded data removed]",
      "text/plain": [
       "<matplotlib.figure.Figure at 0x7ffab42a0b00>"
      ]
     },
     "metadata": {},
     "output_type": "display_data"
    }
   ],
   "source": [
    "figure, axes = plt.subplots(1, 3, figsize=(11, 3))\n",
    "\n",
    "hist_irregular = histogram(heights, [160, 162, 166, 167, 175, 191])\n",
    "hist_irregular.plot(ax=axes[0], errors=True, cmap=\"rainbow\");\n",
    "hist_irregular.plot(ax=axes[1], density=True, errors=True, cmap=\"rainbow\");\n",
    "hist_irregular.plot(ax=axes[2], density=True, cumulative=True, cmap=\"rainbow\");\n",
    "\n",
    "axes[0].set_title(\"Absolute values\")\n",
    "axes[1].set_title(\"Densities\")\n",
    "axes[2].set_title(\"Cumulative\");"
   ]
  },
  {
   "cell_type": "markdown",
   "metadata": {},
   "source": [
    "## Adding new values"
   ]
  },
  {
   "cell_type": "markdown",
   "metadata": {},
   "source": [
    "### Add (fill) single values"
   ]
  },
  {
   "cell_type": "code",
   "execution_count": 21,
   "metadata": {
    "collapsed": false
   },
   "outputs": [
    {
     "name": "stdout",
     "output_type": "stream",
     "text": [
      "After 0 batches: Histogram1D(bins=20, total=9632.0, underflow=368)\n",
      "After 1 batches: Histogram1D(bins=20, total=19632.0, underflow=368)\n",
      "After 2 batches: Histogram1D(bins=20, total=29632.0, underflow=368)\n",
      "After 3 batches: Histogram1D(bins=20, total=39271.0, underflow=368, overflow=361)\n"
     ]
    },
    {
     "data": {
      "image/png": "[encoded data removed]",
      "text/plain": [
       "<matplotlib.figure.Figure at 0x7ffab4238940>"
      ]
     },
     "metadata": {},
     "output_type": "display_data"
    }
   ],
   "source": [
    "figure, axes = plt.subplots(1, 4, figsize=(12, 3))\n",
    "\n",
    "hist3 = histogram([], bins=20, range=(160, 200))\n",
    "\n",
    "for i, ax in enumerate(axes):\n",
    "    for height in np.random.normal(165 + 10 * i, 2.8, 10000):\n",
    "        hist3.fill(height)\n",
    "    hist3.plot(ax=ax);\n",
    "    print(\"After {0} batches: {1}\".format(i, hist3))\n",
    "figure.tight_layout()"
   ]
  },
  {
   "cell_type": "markdown",
   "metadata": {},
   "source": [
    "### Add histograms with same binning"
   ]
  },
  {
   "cell_type": "code",
   "execution_count": 22,
   "metadata": {
    "collapsed": false
   },
   "outputs": [
    {
     "data": {
      "image/png": "[encoded data removed]",
      "text/plain": [
       "<matplotlib.figure.Figure at 0x7ffab3eb09e8>"
      ]
     },
     "metadata": {},
     "output_type": "display_data"
    }
   ],
   "source": [
    "heights1 = histogram(np.random.normal(169, 10, 100000), bins=50, range=(150, 200))\n",
    "heights2 = histogram(np.random.normal(180, 11, 100000), bins=50, range=(150, 200))\n",
    "\n",
    "\n",
    "total = heights1 + heights2\n",
    "\n",
    "axis = heights1.plot(label=\"Women\", color=\"red\", alpha=0.5)\n",
    "heights2.plot(label=\"Men\", color=\"blue\", alpha=0.5, ax=axis)\n",
    "total.plot(label=\"All\", color=\"gray\", alpha=0.5, ax=axis)\n",
    "axis.legend();"
   ]
  },
  {
   "cell_type": "markdown",
   "metadata": {},
   "source": [
    "## Compatibility\n",
    "\n",
    "Note: Mostly, the compatibility is a trivial consequence of the object being convertible to numpy array"
   ]
  },
  {
   "cell_type": "code",
   "execution_count": 23,
   "metadata": {
    "collapsed": false
   },
   "outputs": [
    {
     "data": {
      "text/html": [
       "<div>\n",
       "<table border=\"1\" class=\"dataframe\">\n",
       "  <thead>\n",
       "    <tr style=\"text-align: right;\">\n",
       "      <th></th>\n",
       "      <th>left</th>\n",
       "      <th>right</th>\n",
       "      <th>frequency</th>\n",
       "      <th>error</th>\n",
       "    </tr>\n",
       "  </thead>\n",
       "  <tbody>\n",
       "    <tr>\n",
       "      <th>0</th>\n",
       "      <td>155.000000</td>\n",
       "      <td>161.142857</td>\n",
       "      <td>4.0</td>\n",
       "      <td>2.000000</td>\n",
       "    </tr>\n",
       "    <tr>\n",
       "      <th>1</th>\n",
       "      <td>161.142857</td>\n",
       "      <td>167.285714</td>\n",
       "      <td>9.0</td>\n",
       "      <td>3.000000</td>\n",
       "    </tr>\n",
       "    <tr>\n",
       "      <th>2</th>\n",
       "      <td>167.285714</td>\n",
       "      <td>173.428571</td>\n",
       "      <td>15.0</td>\n",
       "      <td>3.872983</td>\n",
       "    </tr>\n",
       "    <tr>\n",
       "      <th>3</th>\n",
       "      <td>173.428571</td>\n",
       "      <td>179.571429</td>\n",
       "      <td>17.0</td>\n",
       "      <td>4.123106</td>\n",
       "    </tr>\n",
       "    <tr>\n",
       "      <th>4</th>\n",
       "      <td>179.571429</td>\n",
       "      <td>185.714286</td>\n",
       "      <td>7.0</td>\n",
       "      <td>2.645751</td>\n",
       "    </tr>\n",
       "    <tr>\n",
       "      <th>5</th>\n",
       "      <td>185.714286</td>\n",
       "      <td>191.857143</td>\n",
       "      <td>3.0</td>\n",
       "      <td>1.732051</td>\n",
       "    </tr>\n",
       "    <tr>\n",
       "      <th>6</th>\n",
       "      <td>191.857143</td>\n",
       "      <td>198.000000</td>\n",
       "      <td>1.0</td>\n",
       "      <td>1.000000</td>\n",
       "    </tr>\n",
       "  </tbody>\n",
       "</table>\n",
       "</div>"
      ],
      "text/plain": [
       "         left       right  frequency     error\n",
       "0  155.000000  161.142857        4.0  2.000000\n",
       "1  161.142857  167.285714        9.0  3.000000\n",
       "2  167.285714  173.428571       15.0  3.872983\n",
       "3  173.428571  179.571429       17.0  4.123106\n",
       "4  179.571429  185.714286        7.0  2.645751\n",
       "5  185.714286  191.857143        3.0  1.732051\n",
       "6  191.857143  198.000000        1.0  1.000000"
      ]
     },
     "execution_count": 23,
     "metadata": {},
     "output_type": "execute_result"
    }
   ],
   "source": [
    "# Convert to pandas dataframe\n",
    "hist.to_dataframe()"
   ]
  },
  {
   "cell_type": "code",
   "execution_count": 24,
   "metadata": {
    "collapsed": false
   },
   "outputs": [
    {
     "name": "stderr",
     "output_type": "stream",
     "text": [
      "/home/pipek/anaconda3/lib/python3.5/site-packages/numpy/lib/function_base.py:564: VisibleDeprecationWarning: using a non-integer number instead of an integer will result in an error in the future\n",
      "  n = np.zeros(bins, ntype)\n",
      "/home/pipek/anaconda3/lib/python3.5/site-packages/numpy/lib/function_base.py:600: VisibleDeprecationWarning: using a non-integer number instead of an integer will result in an error in the future\n",
      "  n += np.bincount(indices, weights=tmp_w, minlength=bins).astype(ntype)\n"
     ]
    },
    {
     "data": {
      "image/png": "[encoded data removed]",
      "text/plain": [
       "<matplotlib.figure.Figure at 0x7ffaa47d6b38>"
      ]
     },
     "metadata": {},
     "output_type": "display_data"
    }
   ],
   "source": [
    "# Works on xarray\n",
    "import xarray as xr\n",
    "arr = xr.DataArray(np.random.rand(10, 50, 100))\n",
    "histogram(arr).plot(cmap=\"rainbow\");"
   ]
  },
  {
   "cell_type": "code",
   "execution_count": 25,
   "metadata": {
    "collapsed": false
   },
   "outputs": [
    {
     "name": "stderr",
     "output_type": "stream",
     "text": [
      "/home/pipek/anaconda3/lib/python3.5/site-packages/numpy/lib/function_base.py:564: VisibleDeprecationWarning: using a non-integer number instead of an integer will result in an error in the future\n",
      "  n = np.zeros(bins, ntype)\n",
      "/home/pipek/anaconda3/lib/python3.5/site-packages/numpy/lib/function_base.py:600: VisibleDeprecationWarning: using a non-integer number instead of an integer will result in an error in the future\n",
      "  n += np.bincount(indices, weights=tmp_w, minlength=bins).astype(ntype)\n"
     ]
    },
    {
     "data": {
      "text/plain": [
       "Histogram1D(bins=7, total=56.0)"
      ]
     },
     "execution_count": 25,
     "metadata": {},
     "output_type": "execute_result"
    }
   ],
   "source": [
    "# Works on pandas dataseries\n",
    "import pandas as pd\n",
    "series = pd.Series(heights)\n",
    "histogram(series)"
   ]
  },
  {
   "cell_type": "code",
   "execution_count": 26,
   "metadata": {
    "collapsed": false
   },
   "outputs": [
    {
     "data": {
      "image/png": "[encoded data removed]",
      "text/plain": [
       "<matplotlib.figure.Figure at 0x7ffa6914bd68>"
      ]
     },
     "metadata": {},
     "output_type": "display_data"
    }
   ],
   "source": [
    "# Works on blaze data fields\n",
    "from blaze import Data\n",
    "from blaze.utils import example\n",
    "iris = Data(example('iris.csv'))\n",
    "histogram(iris.sepal_length, bins=10).plot();"
   ]
  },
  {
   "cell_type": "markdown",
   "metadata": {},
   "source": [
    "## Export & import"
   ]
  },
  {
   "cell_type": "code",
   "execution_count": 27,
   "metadata": {
    "collapsed": false
   },
   "outputs": [
    {
     "data": {
      "text/plain": [
       "'{\"bins\": [[155.0, 161.14285714285714], [161.14285714285714, 167.28571428571428], [167.28571428571428, 173.42857142857144], [173.42857142857144, 179.57142857142858], [179.57142857142858, 185.71428571428572], [185.71428571428572, 191.85714285714286], [191.85714285714286, 198.0]], \"frequencies\": [4.0, 9.0, 15.0, 17.0, 7.0, 3.0, 1.0], \"errors2\": [4.0, 9.0, 15.0, 17.0, 7.0, 3.0, 1.0], \"keep_missed\": true, \"underflow\": 0.0, \"overflow\": 0.0}'"
      ]
     },
     "execution_count": 27,
     "metadata": {},
     "output_type": "execute_result"
    }
   ],
   "source": [
    "json = hist.to_json()     # add path argument to write it to file\n",
    "json"
   ]
  },
  {
   "cell_type": "code",
   "execution_count": 28,
   "metadata": {
    "collapsed": false
   },
   "outputs": [
    {
     "data": {
      "image/png": "[encoded data removed]",
      "text/plain": [
       "<matplotlib.figure.Figure at 0x7ffaac9ecbe0>"
      ]
     },
     "metadata": {},
     "output_type": "display_data"
    }
   ],
   "source": [
    "from physt.histogram1d import Histogram1D\n",
    "Histogram1D.from_json(json).plot();"
   ]
  },
  {
   "cell_type": "code",
   "execution_count": null,
   "metadata": {
    "collapsed": true
   },
   "outputs": [],
   "source": []
  }
 ],
 "metadata": {
  "kernelspec": {
   "display_name": "Python 3",
   "language": "python",
   "name": "python3"
  },
  "language_info": {
   "codemirror_mode": {
    "name": "ipython",
    "version": 3
   },
   "file_extension": ".py",
   "mimetype": "text/x-python",
   "name": "python",
   "nbconvert_exporter": "python",
   "pygments_lexer": "ipython3",
   "version": "3.5.1"
  }
 },
 "nbformat": 4,
 "nbformat_minor": 0
}
